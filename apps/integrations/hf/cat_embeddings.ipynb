{
 "cells": [
  {
   "cell_type": "code",
   "execution_count": 1,
   "metadata": {},
   "outputs": [],
   "source": [
    "import  numpy as np\n",
    "import  pandas as pd\n",
    "import  math \n",
    "import  torch \n",
    "from    typing import List, Dict, Any, Tuple, Union\n",
    "from    omegaconf import DictConfig, OmegaConf\n",
    "from    pathlib import Path\n",
    "\n",
    "import  re\n",
    "import  functools\n",
    "import  time \n",
    "import  logging \n",
    "import  tqdm\n",
    "\n",
    "from    rich import print as rprint\n",
    "from    rich.markdown import Markdown\n",
    "from    IPython.display import display, Image, Markdown, HTML, JSON\n",
    "\n",
    "import  matplotlib.pyplot as plt \n",
    "import  seaborn as sns\n",
    "import  plotly.express as px\n",
    "# sns.set(context='notebook', rc={'figure.figsize':(14,10)}, style='white')\n",
    "# sns.set(context='notebook', rc={'figure.figsize':(12,10)}, palette=sns.color_palette('tab10', 10))\n",
    "# sns.set(style=\"darkgrid\", color_codes=True)\n",
    "\n",
    "%load_ext autoreload\n",
    "%autoreload 2"
   ]
  },
  {
   "cell_type": "code",
   "execution_count": 4,
   "metadata": {},
   "outputs": [],
   "source": [
    "# TBD: Target Encoding\n",
    "# LabelBinarize: One-vs-all\n",
    "from    sklearn.preprocessing   import LabelEncoder, OrdinalEncoder, OneHotEncoder, LabelBinarizer \n",
    "from    sklearn.preprocessing   import StandardScaler \n",
    "from    sklearn.preprocessing   import FunctionTransformer\n",
    "from    sklearn.pipeline        import Pipeline, make_pipeline\n",
    "from    sklearn.compose         import ColumnTransformer\n",
    "from    sklearn.model_selection import train_test_split\n",
    "from    sklearn.base            import BaseEstimator, TransformerMixin\n",
    "#from    sklearn.utils           import resample\n",
    "\n",
    "from    sklearn.decomposition   import PCA\n",
    "from    sklearn.manifold        import TSNE\n",
    "import  umap\n",
    "\n"
   ]
  },
  {
   "cell_type": "code",
   "execution_count": 5,
   "metadata": {},
   "outputs": [],
   "source": [
    "import  aistudio.core.io.filesystem as fs\n",
    "from    aistudio.core                   import Experiment, read_env, import_modules\n",
    "from    aistudio.core.io.reader         import read_hydra, read_csv_to_pandas\n",
    "from    aistudio.core.io.writer_xls     import ExcelFileWriter\n",
    "from    aistudio.core.io.utils          import trsfrm_frame_camelcase_to_snakecase\n",
    "from    aistudio.core.transform         import trsfrm_dt_features_tod, trsfrm_timestamp_to_dt\n",
    "from    aistudio.datasets.dataset       import DatasetTabular\n",
    "from    aistudio.datasets.info          import InfoDateTime, InfoTabular, SchemaInfo\n",
    "from    aistudio.datasets.catalog       import Catalog "
   ]
  },
  {
   "cell_type": "code",
   "execution_count": 6,
   "metadata": {},
   "outputs": [],
   "source": [
    "# https://gitlab.com/praj88/deepembeddings/-/blob/master/Scripts/deepEmbeddings_Keras.ipynb?ref_type=heads"
   ]
  },
  {
   "cell_type": "markdown",
   "metadata": {},
   "source": [
    "# Experiment"
   ]
  },
  {
   "cell_type": "code",
   "execution_count": 7,
   "metadata": {},
   "outputs": [],
   "source": [
    "expname = \"catembeddings-torch\"  \n",
    "exp     = Experiment(root_path=\"./aistudio-core\")\n",
    "seed    = exp.seed_init()\n",
    "exp_config:DictConfig  = exp.create(experiment_name=expname, tags=expname.split('-')).experiment\n",
    "exp_yaml:str           = OmegaConf.to_yaml(exp_config)\n",
    "env_config:dict        = read_env(exp.root_dir.joinpath(\".env\"))\n",
    "output_dir:str         = Path(exp_config.artifacts.datasets) "
   ]
  },
  {
   "cell_type": "markdown",
   "metadata": {},
   "source": [
    "# Catalog"
   ]
  },
  {
   "cell_type": "code",
   "execution_count": 8,
   "metadata": {},
   "outputs": [
    {
     "data": {
      "text/html": [
       "<pre style=\"white-space:pre;overflow-x:auto;line-height:normal;font-family:Menlo,'DejaVu Sans Mono',consolas,'Courier New',monospace\"><span style=\"font-weight: bold\">{</span><span style=\"color: #008000; text-decoration-color: #008000\">'num_files'</span>: <span style=\"color: #008080; text-decoration-color: #008080; font-weight: bold\">7</span>, <span style=\"color: #008000; text-decoration-color: #008000\">'num_dbs'</span>: <span style=\"color: #008080; text-decoration-color: #008080; font-weight: bold\">4</span><span style=\"font-weight: bold\">}</span>\n",
       "</pre>\n"
      ],
      "text/plain": [
       "\u001b[1m{\u001b[0m\u001b[32m'num_files'\u001b[0m: \u001b[1;36m7\u001b[0m, \u001b[32m'num_dbs'\u001b[0m: \u001b[1;36m4\u001b[0m\u001b[1m}\u001b[0m\n"
      ]
     },
     "metadata": {},
     "output_type": "display_data"
    },
    {
     "data": {
      "text/html": [
       "<div>\n",
       "<style scoped>\n",
       "    .dataframe tbody tr th:only-of-type {\n",
       "        vertical-align: middle;\n",
       "    }\n",
       "\n",
       "    .dataframe tbody tr th {\n",
       "        vertical-align: top;\n",
       "    }\n",
       "\n",
       "    .dataframe thead th {\n",
       "        text-align: right;\n",
       "    }\n",
       "</style>\n",
       "<table border=\"1\" class=\"dataframe\">\n",
       "  <thead>\n",
       "    <tr style=\"text-align: right;\">\n",
       "      <th></th>\n",
       "      <th>db</th>\n",
       "      <th>table</th>\n",
       "      <th>filename</th>\n",
       "      <th>uri</th>\n",
       "    </tr>\n",
       "  </thead>\n",
       "  <tbody>\n",
       "    <tr>\n",
       "      <th>0</th>\n",
       "      <td>anthem/claims</td>\n",
       "      <td>claims_may_2024</td>\n",
       "      <td>claims_may_2024.csv</td>\n",
       "      <td>aistudio-core/data/catalog/datasets/anthem/cla...</td>\n",
       "    </tr>\n",
       "    <tr>\n",
       "      <th>1</th>\n",
       "      <td>anthem/eob</td>\n",
       "      <td>eob_apr_28_204</td>\n",
       "      <td>eob_apr_28_204.pdf</td>\n",
       "      <td>aistudio-core/data/catalog/datasets/anthem/eob...</td>\n",
       "    </tr>\n",
       "    <tr>\n",
       "      <th>2</th>\n",
       "      <td>anthem/eob</td>\n",
       "      <td>eob_may_12_2024</td>\n",
       "      <td>eob_may_12_2024.pdf</td>\n",
       "      <td>aistudio-core/data/catalog/datasets/anthem/eob...</td>\n",
       "    </tr>\n",
       "    <tr>\n",
       "      <th>3</th>\n",
       "      <td>anthem/eob</td>\n",
       "      <td>eob_may_24_2024</td>\n",
       "      <td>eob_may_24_2024.pdf</td>\n",
       "      <td>aistudio-core/data/catalog/datasets/anthem/eob...</td>\n",
       "    </tr>\n",
       "    <tr>\n",
       "      <th>4</th>\n",
       "      <td>anthem/gna</td>\n",
       "      <td>gna-2024-ytd</td>\n",
       "      <td>gna-2024-ytd.csv</td>\n",
       "      <td>aistudio-core/data/catalog/datasets/anthem/gna...</td>\n",
       "    </tr>\n",
       "    <tr>\n",
       "      <th>5</th>\n",
       "      <td>imdb</td>\n",
       "      <td>directors</td>\n",
       "      <td>directors.csv</td>\n",
       "      <td>aistudio-core/data/catalog/datasets/imdb/direc...</td>\n",
       "    </tr>\n",
       "    <tr>\n",
       "      <th>6</th>\n",
       "      <td>imdb</td>\n",
       "      <td>movies</td>\n",
       "      <td>movies.csv</td>\n",
       "      <td>aistudio-core/data/catalog/datasets/imdb/movie...</td>\n",
       "    </tr>\n",
       "  </tbody>\n",
       "</table>\n",
       "</div>"
      ],
      "text/plain": [
       "              db            table             filename  \\\n",
       "0  anthem/claims  claims_may_2024  claims_may_2024.csv   \n",
       "1     anthem/eob   eob_apr_28_204   eob_apr_28_204.pdf   \n",
       "2     anthem/eob  eob_may_12_2024  eob_may_12_2024.pdf   \n",
       "3     anthem/eob  eob_may_24_2024  eob_may_24_2024.pdf   \n",
       "4     anthem/gna     gna-2024-ytd     gna-2024-ytd.csv   \n",
       "5           imdb        directors        directors.csv   \n",
       "6           imdb           movies           movies.csv   \n",
       "\n",
       "                                                 uri  \n",
       "0  aistudio-core/data/catalog/datasets/anthem/cla...  \n",
       "1  aistudio-core/data/catalog/datasets/anthem/eob...  \n",
       "2  aistudio-core/data/catalog/datasets/anthem/eob...  \n",
       "3  aistudio-core/data/catalog/datasets/anthem/eob...  \n",
       "4  aistudio-core/data/catalog/datasets/anthem/gna...  \n",
       "5  aistudio-core/data/catalog/datasets/imdb/direc...  \n",
       "6  aistudio-core/data/catalog/datasets/imdb/movie...  "
      ]
     },
     "metadata": {},
     "output_type": "display_data"
    }
   ],
   "source": [
    "datasets_root_uri = f\"{exp.data_dir}/catalog/datasets\"\n",
    "dataset_uri = f\"{exp.data_dir}/catalog/datasets/imdb\"\n",
    "dataset_uri = f\"{exp.data_dir}/catalog/datasets/anthem\"\n",
    "\n",
    "cat = Catalog(datasets_root_uri)\n",
    "cat_metrics = cat.read_catalog_metrics(cat.df_catalog)\n",
    "rprint(cat_metrics)\n",
    "display(cat.df_catalog)"
   ]
  },
  {
   "cell_type": "markdown",
   "metadata": {},
   "source": [
    "# Dataset"
   ]
  },
  {
   "cell_type": "code",
   "execution_count": null,
   "metadata": {},
   "outputs": [],
   "source": [
    "# disambiguatation\n",
    "parenthesis_match = lambda text: re.search(r'(\\w+) \\([A-Z]{2}\\)', text)"
   ]
  },
  {
   "cell_type": "code",
   "execution_count": null,
   "metadata": {},
   "outputs": [],
   "source": [
    "\n",
    "for img in [img1, img2, img3]:\n",
    "    embedding  = bt_embeddings(caption, base64_img)\n",
    "    embeddings.append(embedding)\n",
    "    content.append(dict(\n",
    "        image_path = img_path, \n",
    "        caption    = caption,\n",
    "        b64_img    = base64_img,\n",
    "        embedding  = embedding\n",
    "    ))\n",
    "\n",
    "\n",
    "all_embeddings  = np.concatenate([cat_embeddings, car_embeddings])\n",
    "labels          = ['cat'] * len(cat_embeddings) + ['car'] * len(car_embeddings)\n",
    "reduced_dim_emb = dimensionality_reduction(all_embeddings, labels)    \n"
   ]
  },
  {
   "cell_type": "code",
   "execution_count": 9,
   "metadata": {},
   "outputs": [
    {
     "data": {
      "text/html": [
       "<div>\n",
       "<style scoped>\n",
       "    .dataframe tbody tr th:only-of-type {\n",
       "        vertical-align: middle;\n",
       "    }\n",
       "\n",
       "    .dataframe tbody tr th {\n",
       "        vertical-align: top;\n",
       "    }\n",
       "\n",
       "    .dataframe thead th {\n",
       "        text-align: right;\n",
       "    }\n",
       "</style>\n",
       "<table border=\"1\" class=\"dataframe\">\n",
       "  <thead>\n",
       "    <tr style=\"text-align: right;\">\n",
       "      <th></th>\n",
       "      <th>requested_by</th>\n",
       "      <th>category</th>\n",
       "      <th>volume</th>\n",
       "    </tr>\n",
       "    <tr>\n",
       "      <th>date</th>\n",
       "      <th></th>\n",
       "      <th></th>\n",
       "      <th></th>\n",
       "    </tr>\n",
       "  </thead>\n",
       "  <tbody>\n",
       "    <tr>\n",
       "      <th>2020-01-01</th>\n",
       "      <td>Member Authorized Repqresentative</td>\n",
       "      <td>Clinical</td>\n",
       "      <td>144</td>\n",
       "    </tr>\n",
       "    <tr>\n",
       "      <th>2020-01-02</th>\n",
       "      <td>Provider NonContracted</td>\n",
       "      <td>Clinical</td>\n",
       "      <td>72</td>\n",
       "    </tr>\n",
       "    <tr>\n",
       "      <th>2020-01-03</th>\n",
       "      <td>HealthPlan</td>\n",
       "      <td>Administrative</td>\n",
       "      <td>129</td>\n",
       "    </tr>\n",
       "    <tr>\n",
       "      <th>2020-01-04</th>\n",
       "      <td>Anthem Associate</td>\n",
       "      <td>Clinical</td>\n",
       "      <td>108</td>\n",
       "    </tr>\n",
       "    <tr>\n",
       "      <th>2020-01-05</th>\n",
       "      <td>Regulatory Risk</td>\n",
       "      <td>Clinical</td>\n",
       "      <td>5</td>\n",
       "    </tr>\n",
       "  </tbody>\n",
       "</table>\n",
       "</div>"
      ],
      "text/plain": [
       "                                 requested_by        category  volume\n",
       "date                                                                 \n",
       "2020-01-01  Member Authorized Repqresentative        Clinical     144\n",
       "2020-01-02             Provider NonContracted        Clinical      72\n",
       "2020-01-03                         HealthPlan  Administrative     129\n",
       "2020-01-04                   Anthem Associate        Clinical     108\n",
       "2020-01-05                    Regulatory Risk        Clinical       5"
      ]
     },
     "execution_count": 9,
     "metadata": {},
     "output_type": "execute_result"
    }
   ],
   "source": [
    "# source  = cat.read_datasource_properties('anthem/gna', 'gna-2024-ytd')\n",
    "uri = exp.catalog_dir.joinpath('datasets/anthem/gna/gna-2024-ytd.csv')\n",
    "df_dat  = (\n",
    "    read_csv_to_pandas(uri, index_col=0, parse_dates=True)\n",
    "    .pipe(trsfrm_frame_camelcase_to_snakecase)\n",
    "    .rename_axis('date')\n",
    ")\n",
    "dataset = DatasetTabular(df_dat)\n",
    "dataset.data.head()"
   ]
  },
  {
   "cell_type": "code",
   "execution_count": 23,
   "metadata": {},
   "outputs": [
    {
     "data": {
      "text/html": [
       "<div>\n",
       "<style scoped>\n",
       "    .dataframe tbody tr th:only-of-type {\n",
       "        vertical-align: middle;\n",
       "    }\n",
       "\n",
       "    .dataframe tbody tr th {\n",
       "        vertical-align: top;\n",
       "    }\n",
       "\n",
       "    .dataframe thead th {\n",
       "        text-align: right;\n",
       "    }\n",
       "</style>\n",
       "<table border=\"1\" class=\"dataframe\">\n",
       "  <thead>\n",
       "    <tr style=\"text-align: right;\">\n",
       "      <th></th>\n",
       "      <th>date</th>\n",
       "      <th>category</th>\n",
       "      <th>requested_by</th>\n",
       "      <th>volume</th>\n",
       "    </tr>\n",
       "  </thead>\n",
       "  <tbody>\n",
       "    <tr>\n",
       "      <th>0</th>\n",
       "      <td>2020-01-01</td>\n",
       "      <td>Clinical</td>\n",
       "      <td>Member Authorized Repqresentative</td>\n",
       "      <td>144</td>\n",
       "    </tr>\n",
       "    <tr>\n",
       "      <th>1</th>\n",
       "      <td>2020-01-02</td>\n",
       "      <td>Clinical</td>\n",
       "      <td>Provider NonContracted</td>\n",
       "      <td>72</td>\n",
       "    </tr>\n",
       "    <tr>\n",
       "      <th>2</th>\n",
       "      <td>2020-01-03</td>\n",
       "      <td>Administrative</td>\n",
       "      <td>HealthPlan</td>\n",
       "      <td>129</td>\n",
       "    </tr>\n",
       "    <tr>\n",
       "      <th>3</th>\n",
       "      <td>2020-01-04</td>\n",
       "      <td>Clinical</td>\n",
       "      <td>Anthem Associate</td>\n",
       "      <td>108</td>\n",
       "    </tr>\n",
       "    <tr>\n",
       "      <th>4</th>\n",
       "      <td>2020-01-05</td>\n",
       "      <td>Clinical</td>\n",
       "      <td>Regulatory Risk</td>\n",
       "      <td>5</td>\n",
       "    </tr>\n",
       "  </tbody>\n",
       "</table>\n",
       "</div>"
      ],
      "text/plain": [
       "        date        category                       requested_by  volume\n",
       "0 2020-01-01        Clinical  Member Authorized Repqresentative     144\n",
       "1 2020-01-02        Clinical             Provider NonContracted      72\n",
       "2 2020-01-03  Administrative                         HealthPlan     129\n",
       "3 2020-01-04        Clinical                   Anthem Associate     108\n",
       "4 2020-01-05        Clinical                    Regulatory Risk       5"
      ]
     },
     "execution_count": 23,
     "metadata": {},
     "output_type": "execute_result"
    }
   ],
   "source": [
    "filename_   = 'distribution-report.xlsx'\n",
    "sheet_name_ = 'admin'\n",
    "xls    = ExcelFileWriter() \n",
    "df_xls = xls.read_excel(filename=filename_, sheet_name=sheet_name_).head()\n",
    "df_xls.head()\n",
    "# xls.write_excel(dataset.data[['category', 'requested_by', 'volume']], filename_, sheet_name_, with_index=True)\n"
   ]
  },
  {
   "cell_type": "markdown",
   "metadata": {},
   "source": [
    "# Data Preparation"
   ]
  },
  {
   "cell_type": "code",
   "execution_count": 10,
   "metadata": {},
   "outputs": [
    {
     "data": {
      "text/plain": [
       "{'days': 942, 'quarters': 10.47, 'years': 2.58}"
      ]
     },
     "metadata": {},
     "output_type": "display_data"
    },
    {
     "data": {
      "text/html": [
       "<div>\n",
       "<style scoped>\n",
       "    .dataframe tbody tr th:only-of-type {\n",
       "        vertical-align: middle;\n",
       "    }\n",
       "\n",
       "    .dataframe tbody tr th {\n",
       "        vertical-align: top;\n",
       "    }\n",
       "\n",
       "    .dataframe thead th {\n",
       "        text-align: right;\n",
       "    }\n",
       "</style>\n",
       "<table border=\"1\" class=\"dataframe\">\n",
       "  <thead>\n",
       "    <tr style=\"text-align: right;\">\n",
       "      <th></th>\n",
       "      <th>requested_by</th>\n",
       "      <th>category</th>\n",
       "      <th>volume</th>\n",
       "      <th>date</th>\n",
       "      <th>day</th>\n",
       "      <th>month</th>\n",
       "      <th>quarter</th>\n",
       "      <th>year</th>\n",
       "    </tr>\n",
       "    <tr>\n",
       "      <th>date</th>\n",
       "      <th></th>\n",
       "      <th></th>\n",
       "      <th></th>\n",
       "      <th></th>\n",
       "      <th></th>\n",
       "      <th></th>\n",
       "      <th></th>\n",
       "      <th></th>\n",
       "    </tr>\n",
       "  </thead>\n",
       "  <tbody>\n",
       "    <tr>\n",
       "      <th>2022-01-01</th>\n",
       "      <td>Other</td>\n",
       "      <td>Clinical</td>\n",
       "      <td>41</td>\n",
       "      <td>2022-01-01</td>\n",
       "      <td>1</td>\n",
       "      <td>1</td>\n",
       "      <td>1</td>\n",
       "      <td>2022</td>\n",
       "    </tr>\n",
       "    <tr>\n",
       "      <th>2022-01-02</th>\n",
       "      <td>Other</td>\n",
       "      <td>Clinical</td>\n",
       "      <td>167</td>\n",
       "      <td>2022-01-02</td>\n",
       "      <td>2</td>\n",
       "      <td>1</td>\n",
       "      <td>1</td>\n",
       "      <td>2022</td>\n",
       "    </tr>\n",
       "    <tr>\n",
       "      <th>2022-01-03</th>\n",
       "      <td>Provider Authorized Representative</td>\n",
       "      <td>Clinical</td>\n",
       "      <td>2</td>\n",
       "      <td>2022-01-03</td>\n",
       "      <td>3</td>\n",
       "      <td>1</td>\n",
       "      <td>1</td>\n",
       "      <td>2022</td>\n",
       "    </tr>\n",
       "    <tr>\n",
       "      <th>2022-01-04</th>\n",
       "      <td>Member Authorized Repqresentative</td>\n",
       "      <td>Clinical</td>\n",
       "      <td>191</td>\n",
       "      <td>2022-01-04</td>\n",
       "      <td>4</td>\n",
       "      <td>1</td>\n",
       "      <td>1</td>\n",
       "      <td>2022</td>\n",
       "    </tr>\n",
       "    <tr>\n",
       "      <th>2022-01-05</th>\n",
       "      <td>Provider Authorized Representative</td>\n",
       "      <td>Administrative</td>\n",
       "      <td>29</td>\n",
       "      <td>2022-01-05</td>\n",
       "      <td>5</td>\n",
       "      <td>1</td>\n",
       "      <td>1</td>\n",
       "      <td>2022</td>\n",
       "    </tr>\n",
       "  </tbody>\n",
       "</table>\n",
       "</div>"
      ],
      "text/plain": [
       "                                  requested_by        category  volume  \\\n",
       "date                                                                     \n",
       "2022-01-01                               Other        Clinical      41   \n",
       "2022-01-02                               Other        Clinical     167   \n",
       "2022-01-03  Provider Authorized Representative        Clinical       2   \n",
       "2022-01-04   Member Authorized Repqresentative        Clinical     191   \n",
       "2022-01-05  Provider Authorized Representative  Administrative      29   \n",
       "\n",
       "                 date  day  month  quarter  year  \n",
       "date                                              \n",
       "2022-01-01 2022-01-01    1      1        1  2022  \n",
       "2022-01-02 2022-01-02    2      1        1  2022  \n",
       "2022-01-03 2022-01-03    3      1        1  2022  \n",
       "2022-01-04 2022-01-04    4      1        1  2022  \n",
       "2022-01-05 2022-01-05    5      1        1  2022  "
      ]
     },
     "execution_count": 10,
     "metadata": {},
     "output_type": "execute_result"
    }
   ],
   "source": [
    "# filter for particular time period\n",
    "start_dt, end_dt = '2022-01-01', '2024-07-31'\n",
    "df_dat_dt_flt    = dataset.data.loc[start_dt:end_dt]\n",
    "dt_props:dict    = InfoDateTime.calc_dt_stats(df_dat_dt_flt, col='date')\n",
    "dt_span:dict     = InfoDateTime.calc_dt_timespan(dt_props['min_date'], dt_props['max_date'])\n",
    "display(dt_span)\n",
    "# particular time frame \n",
    "df_dat_tod = trsfrm_dt_features_tod(df_dat_dt_flt)\n",
    "df_dat_tod.head()"
   ]
  },
  {
   "cell_type": "code",
   "execution_count": 11,
   "metadata": {},
   "outputs": [
    {
     "name": "stdout",
     "output_type": "stream",
     "text": [
      "Train Shape: (603, 8) | Val Shape: (151, 8) | Test Shape: (189, 8)\n"
     ]
    }
   ],
   "source": [
    "# partition the data, for classification, add projection\n",
    "train, test = train_test_split(df_dat_tod,  random_state=42, test_size=0.2)\n",
    "train, val  = train_test_split(train, random_state=42, test_size=0.2)\n",
    "print(f\"Train Shape: {train.shape} | Val Shape: {val.shape} | Test Shape: {test.shape}\")"
   ]
  },
  {
   "cell_type": "code",
   "execution_count": 12,
   "metadata": {},
   "outputs": [
    {
     "data": {
      "text/plain": [
       "(103.23714759535655, 57.844434363978905)"
      ]
     },
     "execution_count": 12,
     "metadata": {},
     "output_type": "execute_result"
    }
   ],
   "source": [
    "train_mu  = np.mean(train[dataset.numerical_cols].values)\n",
    "train_std = np.std(train[dataset.numerical_cols].values)\n",
    "train_mu, train_std"
   ]
  },
  {
   "cell_type": "markdown",
   "metadata": {},
   "source": [
    "# Transforms"
   ]
  },
  {
   "cell_type": "code",
   "execution_count": 69,
   "metadata": {},
   "outputs": [],
   "source": [
    "def function_transformer_decorator(func):\n",
    "    @functools.wraps(func)\n",
    "    def wrapper(*args, **kwargs):\n",
    "        return FunctionTransformer(lambda data: func(data, *args, **kwargs), validate=False)\n",
    "    return wrapper\n",
    "\n",
    "def class_transformer(cls):\n",
    "    print(f'Now invoking Parent')\n",
    "    \n",
    "    @functools.wraps(cls)\n",
    "    def wrapper(*args, **kwargs):\n",
    "        print(f'Now invoking wrapper on {cls.__name__} with {args=}')\n",
    "        new_instance = cls(*args)\n",
    "        print(vars(new_instance))\n",
    "        new_instance.created_at = time.time()\n",
    "        return new_instance\n",
    "    return wrapper \n"
   ]
  },
  {
   "cell_type": "code",
   "execution_count": 64,
   "metadata": {},
   "outputs": [],
   "source": [
    "@function_transformer_decorator\n",
    "def encode_categorical_columns(X:np.ndarray, encoders_cache:dict, *args: Tuple[Any, ...], **kwargs: Dict[str, Any]):\n",
    "    X_encoded = X.copy()\n",
    "    for column in X.columns:\n",
    "        encoders_cache[column] = LabelEncoder()\n",
    "        encoders_cache[column].fit(X[column])\n",
    "        X_encoded[f\"{column}_enc\"] = encoders_cache[column].transform(X[column])\n",
    "    return X_encoded\n",
    "\n",
    "enc_cache = {}\n",
    "column_proc = ColumnTransformer(\n",
    "    transformers=[\n",
    "        ('numerical',   StandardScaler(),                       dataset.numerical_cols),\n",
    "        ('categorical', encode_categorical_columns(enc_cache),  dataset.cat_cols),\n",
    "    ], \n",
    "    remainder='passthrough', \n",
    "    verbose_feature_names_out=False\n",
    ").set_output(transform=\"pandas\")"
   ]
  },
  {
   "cell_type": "code",
   "execution_count": 71,
   "metadata": {},
   "outputs": [],
   "source": [
    "def get_embedding_dim(cardinality:int, method:str='nvidia') -> int:\n",
    "    # mulitplier factor: scales embedding size according to cardinality, allowing more expressive power for features with higher cardinality\n",
    "    # cardinality exponent: balance between need for higher dimensions (as cardinality increases) and risk of overfitting (if dimensions are too high for smaller cardianlities)\n",
    "    if method=='logarithmic' and cardinality <= 50: \n",
    "        emb_dim =  min(50,  math.ceil(np.log2(cardinality) + 1) )\n",
    "    # cardinality exponent = growth rate, which can lead to higher dimensional embeddings for features with higher cardinality \n",
    "    elif method=='fastai' and cardinality <= 5000:\n",
    "        emb_dim =  min(600, round(1.6 * cardinality ** 0.56))\n",
    "    # cardinality exponent = growth rate; providing amore controllowed and gradual increase in embedding size; fit for datasets with high cardinality features\n",
    "    elif method=='nvidia': \n",
    "        emb_dim =  min(512, max(16, round(0.5 * cardinality ** 0.25)))\n",
    "    return emb_dim  \n",
    "\n",
    "@function_transformer_decorator\n",
    "def encode_to_embedding(X: pd.DataFrame, method: str = 'nvidia') -> pd.DataFrame:\n",
    "    X_emb = pd.DataFrame(index=X.index)  # Initialize empty DataFrame to collect embeddings\n",
    "    for column in X.columns:\n",
    "        col_cardinality = X[column].nunique()\n",
    "        embedding_dim   = get_embedding_dim(col_cardinality, method)\n",
    "        cat_emb_layer   = torch.nn.Embedding(col_cardinality + 1, embedding_dim)\n",
    "        values          = torch.tensor(X[column].values, dtype=torch.long)\n",
    "        cat_emb         = cat_emb_layer(values).detach().numpy()\n",
    "        X_emb[f\"{column}_emb_{embedding_dim}\"] = cat_emb.tolist()\n",
    "    return X_emb\n",
    "\n",
    "embedding_proc = ColumnTransformer(\n",
    "    transformers=[\n",
    "        ('embeddings',  encode_to_embedding(), [f\"{col}_enc\" for col in dataset.cat_cols])\n",
    "    ], \n",
    "    remainder='passthrough', \n",
    "    verbose_feature_names_out=False\n",
    ").set_output(transform=\"pandas\") "
   ]
  },
  {
   "cell_type": "code",
   "execution_count": 175,
   "metadata": {},
   "outputs": [
    {
     "data": {
      "text/html": [
       "<div>\n",
       "<style scoped>\n",
       "    .dataframe tbody tr th:only-of-type {\n",
       "        vertical-align: middle;\n",
       "    }\n",
       "\n",
       "    .dataframe tbody tr th {\n",
       "        vertical-align: top;\n",
       "    }\n",
       "\n",
       "    .dataframe thead th {\n",
       "        text-align: right;\n",
       "    }\n",
       "</style>\n",
       "<table border=\"1\" class=\"dataframe\">\n",
       "  <thead>\n",
       "    <tr style=\"text-align: right;\">\n",
       "      <th></th>\n",
       "      <th>volume</th>\n",
       "      <th>category</th>\n",
       "      <th>requested_by</th>\n",
       "      <th>requested_by_enc_emb_16</th>\n",
       "      <th>category_enc_emb_16</th>\n",
       "    </tr>\n",
       "    <tr>\n",
       "      <th>date</th>\n",
       "      <th></th>\n",
       "      <th></th>\n",
       "      <th></th>\n",
       "      <th></th>\n",
       "      <th></th>\n",
       "    </tr>\n",
       "  </thead>\n",
       "  <tbody>\n",
       "    <tr>\n",
       "      <th>2022-02-13</th>\n",
       "      <td>-1.117628</td>\n",
       "      <td>Clinical</td>\n",
       "      <td>Provider NonContracted</td>\n",
       "      <td>[1.9672805070877075, -1.5167359113693237, 3.43...</td>\n",
       "      <td>[-0.43599411845207214, 1.2861056327819824, 0.3...</td>\n",
       "    </tr>\n",
       "    <tr>\n",
       "      <th>2024-01-07</th>\n",
       "      <td>-1.636191</td>\n",
       "      <td>Administrative</td>\n",
       "      <td>HealthPlan</td>\n",
       "      <td>[-1.2239184379577637, 1.4365403652191162, 0.56...</td>\n",
       "      <td>[0.18907514214515686, -0.13247187435626984, -1...</td>\n",
       "    </tr>\n",
       "    <tr>\n",
       "      <th>2023-02-03</th>\n",
       "      <td>1.302332</td>\n",
       "      <td>Clinical</td>\n",
       "      <td>Anthem Associate</td>\n",
       "      <td>[1.4436447620391846, -1.171557068824768, -0.66...</td>\n",
       "      <td>[-0.43599411845207214, 1.2861056327819824, 0.3...</td>\n",
       "    </tr>\n",
       "    <tr>\n",
       "      <th>2022-07-03</th>\n",
       "      <td>-0.599065</td>\n",
       "      <td>Clinical</td>\n",
       "      <td>Provider on behalf of Member</td>\n",
       "      <td>[-0.1885765641927719, 0.0046622538939118385, 0...</td>\n",
       "      <td>[-0.43599411845207214, 1.2861056327819824, 0.3...</td>\n",
       "    </tr>\n",
       "    <tr>\n",
       "      <th>2023-02-12</th>\n",
       "      <td>-1.705333</td>\n",
       "      <td>Administrative</td>\n",
       "      <td>Other</td>\n",
       "      <td>[-0.3452569544315338, 2.6596808433532715, -1.6...</td>\n",
       "      <td>[0.18907514214515686, -0.13247187435626984, -1...</td>\n",
       "    </tr>\n",
       "  </tbody>\n",
       "</table>\n",
       "</div>"
      ],
      "text/plain": [
       "              volume        category                  requested_by  \\\n",
       "date                                                                 \n",
       "2022-02-13 -1.117628        Clinical        Provider NonContracted   \n",
       "2024-01-07 -1.636191  Administrative                    HealthPlan   \n",
       "2023-02-03  1.302332        Clinical              Anthem Associate   \n",
       "2022-07-03 -0.599065        Clinical  Provider on behalf of Member   \n",
       "2023-02-12 -1.705333  Administrative                         Other   \n",
       "\n",
       "                                      requested_by_enc_emb_16  \\\n",
       "date                                                            \n",
       "2022-02-13  [1.9672805070877075, -1.5167359113693237, 3.43...   \n",
       "2024-01-07  [-1.2239184379577637, 1.4365403652191162, 0.56...   \n",
       "2023-02-03  [1.4436447620391846, -1.171557068824768, -0.66...   \n",
       "2022-07-03  [-0.1885765641927719, 0.0046622538939118385, 0...   \n",
       "2023-02-12  [-0.3452569544315338, 2.6596808433532715, -1.6...   \n",
       "\n",
       "                                          category_enc_emb_16  \n",
       "date                                                           \n",
       "2022-02-13  [-0.43599411845207214, 1.2861056327819824, 0.3...  \n",
       "2024-01-07  [0.18907514214515686, -0.13247187435626984, -1...  \n",
       "2023-02-03  [-0.43599411845207214, 1.2861056327819824, 0.3...  \n",
       "2022-07-03  [-0.43599411845207214, 1.2861056327819824, 0.3...  \n",
       "2023-02-12  [0.18907514214515686, -0.13247187435626984, -1...  "
      ]
     },
     "execution_count": 175,
     "metadata": {},
     "output_type": "execute_result"
    }
   ],
   "source": [
    "pipeline = Pipeline(steps=[\n",
    "   ('transform',   column_proc), \n",
    "   ('embeddings',  embedding_proc), \n",
    "]).set_output(transform=\"pandas\")\n",
    "train_flt = train.dropna()\n",
    "train_sc  = pipeline.fit_transform(train_flt[['volume', 'category', 'requested_by']])\n",
    "train_sc[['volume', 'category', 'requested_by', 'requested_by_enc_emb_16', 'category_enc_emb_16']].head()\n"
   ]
  },
  {
   "cell_type": "code",
   "execution_count": 176,
   "metadata": {},
   "outputs": [],
   "source": [
    "# Combine embeddings as a row \n",
    "emb_data = np.hstack([np.array(train_sc[col].tolist()) for col in train_sc.columns if f'_enc_emb_' in col])\n",
    "emb_data = np.hstack([train_sc['volume'].values.reshape(-1,1), emb_data])"
   ]
  },
  {
   "cell_type": "markdown",
   "metadata": {},
   "source": [
    "# Embedding Projection\n",
    "- https://projector.tensorflow.org/\n"
   ]
  },
  {
   "cell_type": "code",
   "execution_count": 177,
   "metadata": {},
   "outputs": [
    {
     "data": {
      "text/plain": [
       "((566,), (566,))"
      ]
     },
     "execution_count": 177,
     "metadata": {},
     "output_type": "execute_result"
    }
   ],
   "source": [
    "pca_mdl = PCA(n_components=2)\n",
    "emb_pca = pca_mdl.fit_transform(emb_data)\n",
    "emb_pca[:, 0].shape, emb_pca[:, 1].shape"
   ]
  },
  {
   "cell_type": "code",
   "execution_count": 178,
   "metadata": {},
   "outputs": [
    {
     "data": {
      "text/plain": [
       "((566,), (566,))"
      ]
     },
     "execution_count": 178,
     "metadata": {},
     "output_type": "execute_result"
    }
   ],
   "source": [
    "# converts similarities between data points to joint probabilities and tries to minimize the Kullback-Leibler divergence between the joint probabilities\n",
    "# of low dimensionaly embedding and high dimensional data\n",
    "perplexity = 40     # related to the number of nearest neighbors - usually a value between 5 and 50\n",
    "n_iter     = 500    # number of iterations\n",
    "tsne_mdl   = TSNE(n_components=2, verbose=False, random_state=42, perplexity=perplexity, n_iter=n_iter)\n",
    "emb_tsne   = tsne_mdl.fit_transform(emb_data)\n",
    "emb_tsne[:, 0].shape, emb_tsne[:, 1].shape "
   ]
  },
  {
   "cell_type": "code",
   "execution_count": 179,
   "metadata": {},
   "outputs": [],
   "source": [
    "n_neighbors = [5, 25, 50]\n",
    "min_dists   = [0, 0.2, 0.5, 0.9]\n",
    "metrics     = [\"euclidean\", 'cosine', 'mahalanobis']\n",
    "umap_mdl    = umap.UMAP(n_components=2, n_neighbors=5, random_state=42, transform_seed=42, verbose=False)\n",
    "fitter      = umap_mdl.fit(emb_data)"
   ]
  },
  {
   "cell_type": "code",
   "execution_count": 180,
   "metadata": {},
   "outputs": [
    {
     "data": {
      "text/plain": [
       "((566,), (566,), (566, 2))"
      ]
     },
     "execution_count": 180,
     "metadata": {},
     "output_type": "execute_result"
    }
   ],
   "source": [
    "umap_mdl = umap.UMAP(n_components=2, n_neighbors=5, random_state=42, transform_seed=42, verbose=False, low_memory=True)\n",
    "# fitter   = umap_mdl.fit(emb_data)\n",
    "# fitter.embedding_ \n",
    "\n",
    "# fitter = umap_mdl.fit(data, y=masked_target)   \n",
    "# mapper = umap_mdl.fit(train_data, np.array(train_labels))\n",
    "# emb    = mapper.transform(test_data)\n",
    "\n",
    "\n",
    "# emb_umap = fitter.embedding_\n",
    "\n",
    "emb_umap = umap_mdl.fit_transform(emb_data) # supervised umap would be: (emb_data, y=target)\n",
    "emb_umap[:, 0].shape, emb_umap[: ,1].shape, emb_umap.shape"
   ]
  },
  {
   "cell_type": "markdown",
   "metadata": {},
   "source": [
    "# Clustering\n",
    "- Apply to Downstream Events\n",
    "    - Data Visualization\n",
    "    - Clustering Algorithms: K-Means (Poor Choice), HDBSCAN\n",
    "    - Classification\n",
    "- UMAP (uniform density assumption, does not preserve density well) does not necessarily produce clean spherical clusters\n",
    "    - UMAP will contract connect components of the manifold together.  With signifigant improvement over T-SNE, with UMAP offering more meaningful clusters.\n",
    "    - UMAP preserves more global structure to create meaningful separation between connect compoennts of the manifodl on which data lies.\n",
    "    - UMAP supports arbitrary embedding dimensions, allowing to embed to larger dimensional spaces.\n",
    "- AlignedUMAP\n",
    "    - over different timeseries segments\n",
    "- PCA (Linear Transformation)\n",
    "    - Works Fast, but often too simplistic / useless\n",
    "    - Up to tens or hundreds of millions of rows\n",
    "- VAE (Encoder/Decoder NN)\n",
    "    - For Toy Datasets\n",
    "    - Extension of Auto-Encoder Networks, should produce embeddings that are not only relevant to actually encoding the data, but also smooth\n",
    "    - Trained wih LKD Loss and BCE (or MSE) loss to enforece the resulting embedding to continuous\n"
   ]
  },
  {
   "cell_type": "markdown",
   "metadata": {},
   "source": [
    "# Plots\n",
    "- https://seaborn.pydata.org/generated/seaborn.regplot.html\n",
    "- sns.lmplot"
   ]
  },
  {
   "cell_type": "markdown",
   "metadata": {},
   "source": [
    "## Plot Embeddings"
   ]
  },
  {
   "cell_type": "code",
   "execution_count": 192,
   "metadata": {},
   "outputs": [
    {
     "data": {
      "image/png": "[encoded data removed]",
      "text/plain": [
       "<Figure size 640x480 with 2 Axes>"
      ]
     },
     "metadata": {},
     "output_type": "display_data"
    }
   ],
   "source": [
    "mapping = {label: index for index, label in enumerate(enc_cache['category'].classes_)}\n",
    "\n",
    "plt.scatter(\n",
    "    emb_umap[:, 0],\n",
    "    emb_umap[:, 1],\n",
    "    #c=[sns.color_palette()[x] for x in train_sc['category'].map(mapping)]\n",
    "    c=train_sc['category'].map(mapping), cmap='Spectral', s=10\n",
    ")\n",
    "plt.gca().set_aspect('equal', 'datalim')\n",
    "plt.colorbar(boundaries=np.arange(3)-0.5).set_ticks(np.arange(2))\n",
    "\n"
   ]
  },
  {
   "cell_type": "code",
   "execution_count": 128,
   "metadata": {},
   "outputs": [],
   "source": [
    "# labels = train_sc['category'].values#.tolist()\n",
    "# fig = plt.figure(figsize=(20,10))\n",
    "# ax  = fig.add_subplot(111, projection='3d')\n",
    "# for i in range(len(labels)):\n",
    "#     ax.scatter(*emb_umap.T, color='b')\n",
    "#     #ax.text(emb_umap[i,0], emb_umap[i,1], emb_umap[i,2],'%s'%(str(labels[i])), size=20, zorder=1, color='k')"
   ]
  },
  {
   "cell_type": "code",
   "execution_count": 112,
   "metadata": {},
   "outputs": [
    {
     "data": {
      "text/plain": [
       "Text(0, 0.5, 'Component 2')"
      ]
     },
     "execution_count": 112,
     "metadata": {},
     "output_type": "execute_result"
    },
    {
     "data": {
      "image/png": "[encoded data removed]",
      "text/plain": [
       "<Figure size 640x480 with 1 Axes>"
      ]
     },
     "metadata": {},
     "output_type": "display_data"
    }
   ],
   "source": [
    "plt.scatter(\n",
    "    *emb_umap.T,\n",
    "    #emb_umap[:, 0], \n",
    "    #emb_umap[:, 1], \n",
    "    s=10, \n",
    "    alpha=0.5,\n",
    "    #c=train_sc['category'].values,    # target \n",
    "    cmap=plt.cm.nipy_spectral,      # 'Spectral'\n",
    "    edgecolor=\"k\",\n",
    "    label=train_sc['requested_by'].values  # target \n",
    ")\n",
    "plt.setp(plt.gca(), xticks=[], yticks=[])\n",
    "plt.title(\"Visualization of Categorical Embeddings\")\n",
    "plt.xlabel(\"Component 1\")\n",
    "plt.ylabel(\"Component 2\")\n",
    "# cbar = plt.colorbar(boundaries=np.arange(11)-0.5)\n",
    "# cbar.set_ticks(np.arange(10))\n",
    "# cbar.set_ticklabels(classes)\n",
    "#plt.colorbar(boundaries=np.arange(11) - 0.5).set_ticks(np.arange(10))"
   ]
  },
  {
   "cell_type": "markdown",
   "metadata": {},
   "source": [
    "# Modeling"
   ]
  },
  {
   "cell_type": "markdown",
   "metadata": {},
   "source": [
    "## Evaluation"
   ]
  },
  {
   "cell_type": "code",
   "execution_count": 2,
   "metadata": {},
   "outputs": [],
   "source": [
    "def evaluate(y, yhat) -> dict:\n",
    "    error     = yhat - y \n",
    "    abs_error = np.abs(error)\n",
    "    sq_error  = (error)**2 \n",
    "    # calculate % relateive to the actual target \n",
    "    error_rel_pct       = (error / y) * 100,\n",
    "    abs_error_rel_pct   = np.abs(error_rel_pct),\n",
    "\n",
    "\n",
    "# errors between prediction and true target\n",
    "# df.sort_values(\"abs_error\", ascending=False).head(5)\n",
    "# error_mean, error_std = df['error'].mean(), df['eror'].std()\n",
    "# plt.hist(df['error'], bins=100)\n",
    "# plt.hist(df['error_rel_pct'], bins=100)\n",
    "\n"
   ]
  },
  {
   "cell_type": "code",
   "execution_count": null,
   "metadata": {},
   "outputs": [],
   "source": []
  }
 ],
 "metadata": {
  "language_info": {
   "name": "python"
  }
 },
 "nbformat": 4,
 "nbformat_minor": 2
}
