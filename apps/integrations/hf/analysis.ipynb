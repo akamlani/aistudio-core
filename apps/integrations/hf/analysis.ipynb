{
 "cells": [
  {
   "cell_type": "code",
   "execution_count": 2,
   "metadata": {},
   "outputs": [
    {
     "name": "stdout",
     "output_type": "stream",
     "text": [
      "The autoreload extension is already loaded. To reload it, use:\n",
      "  %reload_ext autoreload\n"
     ]
    }
   ],
   "source": [
    "import  numpy as np\n",
    "import  pandas as pd\n",
    "import  torch \n",
    "from    typing import List, Dict, Any, Tuple, Union\n",
    "from    omegaconf import DictConfig, OmegaConf\n",
    "from    pathlib import Path\n",
    "\n",
    "from    rich import print as rprint\n",
    "from    rich.markdown import Markdown\n",
    "\n",
    "import  matplotlib.pyplot as plt \n",
    "import  seaborn as sns\n",
    "\n",
    "import  logging \n",
    "import  tqdm\n",
    "\n",
    "%load_ext autoreload\n",
    "%autoreload 2"
   ]
  },
  {
   "cell_type": "code",
   "execution_count": 3,
   "metadata": {},
   "outputs": [],
   "source": [
    "import scipy.stats as scs"
   ]
  },
  {
   "cell_type": "code",
   "execution_count": 4,
   "metadata": {},
   "outputs": [],
   "source": [
    "import  aistudio.core.io.filesystem as fs\n",
    "from    aistudio.core             import Experiment, read_env, import_modules\n",
    "from    aistudio.core.io.reader   import read_hydra, read_csv_to_pandas\n",
    "from    aistudio.core.io.utils    import trsfrm_frame_camelcase_to_snakecase\n",
    "from    aistudio.core.transform   import trsfrm_dt_features_tod, trsfrm_timestamp_to_dt\n",
    "from    aistudio.datasets.dataset import DatasetTabular\n",
    "from    aistudio.datasets.info    import InfoDateTime, InfoTabular, SchemaInfo\n",
    "from    aistudio.datasets.catalog import Catalog "
   ]
  },
  {
   "cell_type": "markdown",
   "metadata": {},
   "source": [
    "# Experiment"
   ]
  },
  {
   "cell_type": "code",
   "execution_count": 5,
   "metadata": {},
   "outputs": [],
   "source": [
    "expname = \"catembeddings-torch\"  \n",
    "exp     = Experiment(root_path=\"./aistudio-core\")\n",
    "seed    = exp.seed_init()\n",
    "exp_config:DictConfig  = exp.create(experiment_name=expname, tags=expname.split('-')).experiment\n",
    "exp_yaml:str           = OmegaConf.to_yaml(exp_config)\n",
    "env_config:dict        = read_env(exp.root_dir.joinpath(\".env\"))\n",
    "output_dir:str         = Path(exp_config.artifacts.datasets) "
   ]
  },
  {
   "cell_type": "code",
   "execution_count": 6,
   "metadata": {},
   "outputs": [],
   "source": [
    "# define configuration\n",
    "column_sel = 'volume'"
   ]
  },
  {
   "cell_type": "markdown",
   "metadata": {},
   "source": [
    "# Catalog"
   ]
  },
  {
   "cell_type": "code",
   "execution_count": 7,
   "metadata": {},
   "outputs": [
    {
     "data": {
      "text/html": [
       "<pre style=\"white-space:pre;overflow-x:auto;line-height:normal;font-family:Menlo,'DejaVu Sans Mono',consolas,'Courier New',monospace\"><span style=\"font-weight: bold\">{</span><span style=\"color: #008000; text-decoration-color: #008000\">'num_files'</span>: <span style=\"color: #008080; text-decoration-color: #008080; font-weight: bold\">7</span>, <span style=\"color: #008000; text-decoration-color: #008000\">'num_dbs'</span>: <span style=\"color: #008080; text-decoration-color: #008080; font-weight: bold\">4</span><span style=\"font-weight: bold\">}</span>\n",
       "</pre>\n"
      ],
      "text/plain": [
       "\u001b[1m{\u001b[0m\u001b[32m'num_files'\u001b[0m: \u001b[1;36m7\u001b[0m, \u001b[32m'num_dbs'\u001b[0m: \u001b[1;36m4\u001b[0m\u001b[1m}\u001b[0m\n"
      ]
     },
     "metadata": {},
     "output_type": "display_data"
    },
    {
     "data": {
      "text/html": [
       "<div>\n",
       "<style scoped>\n",
       "    .dataframe tbody tr th:only-of-type {\n",
       "        vertical-align: middle;\n",
       "    }\n",
       "\n",
       "    .dataframe tbody tr th {\n",
       "        vertical-align: top;\n",
       "    }\n",
       "\n",
       "    .dataframe thead th {\n",
       "        text-align: right;\n",
       "    }\n",
       "</style>\n",
       "<table border=\"1\" class=\"dataframe\">\n",
       "  <thead>\n",
       "    <tr style=\"text-align: right;\">\n",
       "      <th></th>\n",
       "      <th>db</th>\n",
       "      <th>table</th>\n",
       "      <th>filename</th>\n",
       "      <th>uri</th>\n",
       "    </tr>\n",
       "  </thead>\n",
       "  <tbody>\n",
       "    <tr>\n",
       "      <th>0</th>\n",
       "      <td>anthem/claims</td>\n",
       "      <td>claims_may_2024</td>\n",
       "      <td>claims_may_2024.csv</td>\n",
       "      <td>aistudio-core/data/catalog/datasets/anthem/cla...</td>\n",
       "    </tr>\n",
       "    <tr>\n",
       "      <th>1</th>\n",
       "      <td>anthem/eob</td>\n",
       "      <td>eob_apr_28_204</td>\n",
       "      <td>eob_apr_28_204.pdf</td>\n",
       "      <td>aistudio-core/data/catalog/datasets/anthem/eob...</td>\n",
       "    </tr>\n",
       "    <tr>\n",
       "      <th>2</th>\n",
       "      <td>anthem/eob</td>\n",
       "      <td>eob_may_12_2024</td>\n",
       "      <td>eob_may_12_2024.pdf</td>\n",
       "      <td>aistudio-core/data/catalog/datasets/anthem/eob...</td>\n",
       "    </tr>\n",
       "    <tr>\n",
       "      <th>3</th>\n",
       "      <td>anthem/eob</td>\n",
       "      <td>eob_may_24_2024</td>\n",
       "      <td>eob_may_24_2024.pdf</td>\n",
       "      <td>aistudio-core/data/catalog/datasets/anthem/eob...</td>\n",
       "    </tr>\n",
       "    <tr>\n",
       "      <th>4</th>\n",
       "      <td>anthem/gna</td>\n",
       "      <td>gna-2024-ytd</td>\n",
       "      <td>gna-2024-ytd.csv</td>\n",
       "      <td>aistudio-core/data/catalog/datasets/anthem/gna...</td>\n",
       "    </tr>\n",
       "    <tr>\n",
       "      <th>5</th>\n",
       "      <td>imdb</td>\n",
       "      <td>directors</td>\n",
       "      <td>directors.csv</td>\n",
       "      <td>aistudio-core/data/catalog/datasets/imdb/direc...</td>\n",
       "    </tr>\n",
       "    <tr>\n",
       "      <th>6</th>\n",
       "      <td>imdb</td>\n",
       "      <td>movies</td>\n",
       "      <td>movies.csv</td>\n",
       "      <td>aistudio-core/data/catalog/datasets/imdb/movie...</td>\n",
       "    </tr>\n",
       "  </tbody>\n",
       "</table>\n",
       "</div>"
      ],
      "text/plain": [
       "              db            table             filename  \\\n",
       "0  anthem/claims  claims_may_2024  claims_may_2024.csv   \n",
       "1     anthem/eob   eob_apr_28_204   eob_apr_28_204.pdf   \n",
       "2     anthem/eob  eob_may_12_2024  eob_may_12_2024.pdf   \n",
       "3     anthem/eob  eob_may_24_2024  eob_may_24_2024.pdf   \n",
       "4     anthem/gna     gna-2024-ytd     gna-2024-ytd.csv   \n",
       "5           imdb        directors        directors.csv   \n",
       "6           imdb           movies           movies.csv   \n",
       "\n",
       "                                                 uri  \n",
       "0  aistudio-core/data/catalog/datasets/anthem/cla...  \n",
       "1  aistudio-core/data/catalog/datasets/anthem/eob...  \n",
       "2  aistudio-core/data/catalog/datasets/anthem/eob...  \n",
       "3  aistudio-core/data/catalog/datasets/anthem/eob...  \n",
       "4  aistudio-core/data/catalog/datasets/anthem/gna...  \n",
       "5  aistudio-core/data/catalog/datasets/imdb/direc...  \n",
       "6  aistudio-core/data/catalog/datasets/imdb/movie...  "
      ]
     },
     "metadata": {},
     "output_type": "display_data"
    }
   ],
   "source": [
    "datasets_root_uri = f\"{exp.data_dir}/catalog/datasets\"\n",
    "dataset_uri = f\"{exp.data_dir}/catalog/datasets/imdb\"\n",
    "dataset_uri = f\"{exp.data_dir}/catalog/datasets/anthem\"\n",
    "\n",
    "cat = Catalog(datasets_root_uri)\n",
    "cat_metrics = cat.read_catalog_metrics(cat.df_catalog)\n",
    "rprint(cat_metrics)\n",
    "display(cat.df_catalog)"
   ]
  },
  {
   "cell_type": "markdown",
   "metadata": {},
   "source": [
    "# Dataset"
   ]
  },
  {
   "cell_type": "code",
   "execution_count": 8,
   "metadata": {},
   "outputs": [
    {
     "data": {
      "text/html": [
       "<div>\n",
       "<style scoped>\n",
       "    .dataframe tbody tr th:only-of-type {\n",
       "        vertical-align: middle;\n",
       "    }\n",
       "\n",
       "    .dataframe tbody tr th {\n",
       "        vertical-align: top;\n",
       "    }\n",
       "\n",
       "    .dataframe thead th {\n",
       "        text-align: right;\n",
       "    }\n",
       "</style>\n",
       "<table border=\"1\" class=\"dataframe\">\n",
       "  <thead>\n",
       "    <tr style=\"text-align: right;\">\n",
       "      <th></th>\n",
       "      <th>requested_by</th>\n",
       "      <th>category</th>\n",
       "      <th>volume</th>\n",
       "    </tr>\n",
       "    <tr>\n",
       "      <th>date</th>\n",
       "      <th></th>\n",
       "      <th></th>\n",
       "      <th></th>\n",
       "    </tr>\n",
       "  </thead>\n",
       "  <tbody>\n",
       "    <tr>\n",
       "      <th>2020-01-01</th>\n",
       "      <td>Member Authorized Repqresentative</td>\n",
       "      <td>Clinical</td>\n",
       "      <td>144</td>\n",
       "    </tr>\n",
       "    <tr>\n",
       "      <th>2020-01-02</th>\n",
       "      <td>Provider NonContracted</td>\n",
       "      <td>Clinical</td>\n",
       "      <td>72</td>\n",
       "    </tr>\n",
       "    <tr>\n",
       "      <th>2020-01-03</th>\n",
       "      <td>HealthPlan</td>\n",
       "      <td>Administrative</td>\n",
       "      <td>129</td>\n",
       "    </tr>\n",
       "    <tr>\n",
       "      <th>2020-01-04</th>\n",
       "      <td>Anthem Associate</td>\n",
       "      <td>Clinical</td>\n",
       "      <td>108</td>\n",
       "    </tr>\n",
       "    <tr>\n",
       "      <th>2020-01-05</th>\n",
       "      <td>Regulatory Risk</td>\n",
       "      <td>Clinical</td>\n",
       "      <td>5</td>\n",
       "    </tr>\n",
       "  </tbody>\n",
       "</table>\n",
       "</div>"
      ],
      "text/plain": [
       "                                 requested_by        category  volume\n",
       "date                                                                 \n",
       "2020-01-01  Member Authorized Repqresentative        Clinical     144\n",
       "2020-01-02             Provider NonContracted        Clinical      72\n",
       "2020-01-03                         HealthPlan  Administrative     129\n",
       "2020-01-04                   Anthem Associate        Clinical     108\n",
       "2020-01-05                    Regulatory Risk        Clinical       5"
      ]
     },
     "execution_count": 8,
     "metadata": {},
     "output_type": "execute_result"
    }
   ],
   "source": [
    "# source  = cat.read_datasource_properties('anthem/gna', 'gna-2024-ytd')\n",
    "uri = exp.catalog_dir.joinpath('datasets/anthem/gna/gna-2024-ytd.csv')\n",
    "df_dat  = (\n",
    "    read_csv_to_pandas(uri, index_col=0, parse_dates=True)\n",
    "    .pipe(trsfrm_frame_camelcase_to_snakecase)\n",
    "    .rename_axis('date')\n",
    ")\n",
    "dataset = DatasetTabular(df_dat)\n",
    "dataset.data.head()"
   ]
  },
  {
   "cell_type": "code",
   "execution_count": 9,
   "metadata": {},
   "outputs": [
    {
     "data": {
      "text/html": [
       "<div>\n",
       "<style scoped>\n",
       "    .dataframe tbody tr th:only-of-type {\n",
       "        vertical-align: middle;\n",
       "    }\n",
       "\n",
       "    .dataframe tbody tr th {\n",
       "        vertical-align: top;\n",
       "    }\n",
       "\n",
       "    .dataframe thead th {\n",
       "        text-align: right;\n",
       "    }\n",
       "</style>\n",
       "<table border=\"1\" class=\"dataframe\">\n",
       "  <thead>\n",
       "    <tr style=\"text-align: right;\">\n",
       "      <th></th>\n",
       "      <th>data_dtype</th>\n",
       "      <th>data_dtype_inferred</th>\n",
       "      <th>schema_dtype</th>\n",
       "    </tr>\n",
       "  </thead>\n",
       "  <tbody>\n",
       "    <tr>\n",
       "      <th>requested_by</th>\n",
       "      <td>object</td>\n",
       "      <td>object</td>\n",
       "      <td>categorical</td>\n",
       "    </tr>\n",
       "    <tr>\n",
       "      <th>category</th>\n",
       "      <td>object</td>\n",
       "      <td>object</td>\n",
       "      <td>categorical</td>\n",
       "    </tr>\n",
       "    <tr>\n",
       "      <th>volume</th>\n",
       "      <td>int64</td>\n",
       "      <td>int64</td>\n",
       "      <td>numerical</td>\n",
       "    </tr>\n",
       "  </tbody>\n",
       "</table>\n",
       "</div>"
      ],
      "text/plain": [
       "             data_dtype data_dtype_inferred schema_dtype\n",
       "requested_by     object              object  categorical\n",
       "category         object              object  categorical\n",
       "volume            int64               int64    numerical"
      ]
     },
     "metadata": {},
     "output_type": "display_data"
    }
   ],
   "source": [
    "schema:pd.DataFrame = dataset.df_schema\n",
    "dt_props:dict       = pd.DataFrame( [dataset.get_timespan()] )\n",
    "display(schema)"
   ]
  },
  {
   "cell_type": "code",
   "execution_count": 10,
   "metadata": {},
   "outputs": [
    {
     "data": {
      "text/html": [
       "<div>\n",
       "<style scoped>\n",
       "    .dataframe tbody tr th:only-of-type {\n",
       "        vertical-align: middle;\n",
       "    }\n",
       "\n",
       "    .dataframe tbody tr th {\n",
       "        vertical-align: top;\n",
       "    }\n",
       "\n",
       "    .dataframe thead th {\n",
       "        text-align: right;\n",
       "    }\n",
       "</style>\n",
       "<table border=\"1\" class=\"dataframe\">\n",
       "  <thead>\n",
       "    <tr style=\"text-align: right;\">\n",
       "      <th></th>\n",
       "      <th>count</th>\n",
       "      <th>pct</th>\n",
       "    </tr>\n",
       "  </thead>\n",
       "  <tbody>\n",
       "    <tr>\n",
       "      <th>volume</th>\n",
       "      <td>0</td>\n",
       "      <td>0.0</td>\n",
       "    </tr>\n",
       "  </tbody>\n",
       "</table>\n",
       "</div>"
      ],
      "text/plain": [
       "        count  pct\n",
       "volume      0  0.0"
      ]
     },
     "metadata": {},
     "output_type": "display_data"
    },
    {
     "data": {
      "text/html": [
       "<div>\n",
       "<style scoped>\n",
       "    .dataframe tbody tr th:only-of-type {\n",
       "        vertical-align: middle;\n",
       "    }\n",
       "\n",
       "    .dataframe tbody tr th {\n",
       "        vertical-align: top;\n",
       "    }\n",
       "\n",
       "    .dataframe thead th {\n",
       "        text-align: right;\n",
       "    }\n",
       "</style>\n",
       "<table border=\"1\" class=\"dataframe\">\n",
       "  <thead>\n",
       "    <tr style=\"text-align: right;\">\n",
       "      <th></th>\n",
       "      <th>kurtosis</th>\n",
       "      <th>max</th>\n",
       "      <th>mean</th>\n",
       "      <th>median</th>\n",
       "      <th>min</th>\n",
       "      <th>skew</th>\n",
       "      <th>std</th>\n",
       "      <th>variation</th>\n",
       "    </tr>\n",
       "  </thead>\n",
       "  <tbody>\n",
       "    <tr>\n",
       "      <th>volume</th>\n",
       "      <td>-1.191</td>\n",
       "      <td>200.0</td>\n",
       "      <td>102.059</td>\n",
       "      <td>104.0</td>\n",
       "      <td>1.0</td>\n",
       "      <td>-0.053</td>\n",
       "      <td>57.178</td>\n",
       "      <td>0.56</td>\n",
       "    </tr>\n",
       "  </tbody>\n",
       "</table>\n",
       "</div>"
      ],
      "text/plain": [
       "        kurtosis    max     mean  median  min   skew     std  variation\n",
       "volume    -1.191  200.0  102.059   104.0  1.0 -0.053  57.178       0.56"
      ]
     },
     "metadata": {},
     "output_type": "display_data"
    },
    {
     "data": {
      "text/html": [
       "<div>\n",
       "<style scoped>\n",
       "    .dataframe tbody tr th:only-of-type {\n",
       "        vertical-align: middle;\n",
       "    }\n",
       "\n",
       "    .dataframe tbody tr th {\n",
       "        vertical-align: top;\n",
       "    }\n",
       "\n",
       "    .dataframe thead th {\n",
       "        text-align: right;\n",
       "    }\n",
       "</style>\n",
       "<table border=\"1\" class=\"dataframe\">\n",
       "  <thead>\n",
       "    <tr style=\"text-align: right;\">\n",
       "      <th></th>\n",
       "      <th>count</th>\n",
       "      <th>unique</th>\n",
       "      <th>top</th>\n",
       "      <th>freq</th>\n",
       "    </tr>\n",
       "  </thead>\n",
       "  <tbody>\n",
       "    <tr>\n",
       "      <th>requested_by</th>\n",
       "      <td>1577</td>\n",
       "      <td>12</td>\n",
       "      <td>Provider</td>\n",
       "      <td>156</td>\n",
       "    </tr>\n",
       "    <tr>\n",
       "      <th>category</th>\n",
       "      <td>1698</td>\n",
       "      <td>2</td>\n",
       "      <td>Administrative</td>\n",
       "      <td>864</td>\n",
       "    </tr>\n",
       "  </tbody>\n",
       "</table>\n",
       "</div>"
      ],
      "text/plain": [
       "             count unique             top freq\n",
       "requested_by  1577     12        Provider  156\n",
       "category      1698      2  Administrative  864"
      ]
     },
     "metadata": {},
     "output_type": "display_data"
    }
   ],
   "source": [
    "# global level statistics \n",
    "display(dataset.df_sparsity)\n",
    "display(dataset.numerical_stats)\n",
    "display(dataset.cat_stats.T)\n",
    "#dataset.cat_dist"
   ]
  },
  {
   "cell_type": "code",
   "execution_count": 11,
   "metadata": {},
   "outputs": [
    {
     "data": {
      "text/plain": [
       "{'days': 1697, 'quarters': 18.86, 'years': 4.65}"
      ]
     },
     "execution_count": 11,
     "metadata": {},
     "output_type": "execute_result"
    }
   ],
   "source": [
    "# Orignal Data Span \n",
    "dt_props:dict    = InfoDateTime.calc_dt_stats(dataset.data, col='date')\n",
    "dt_span:dict     = InfoDateTime.calc_dt_timespan(dt_props['min_date'], dt_props['max_date'])\n",
    "dt_span"
   ]
  },
  {
   "cell_type": "markdown",
   "metadata": {},
   "source": [
    "# Filters and Transforms"
   ]
  },
  {
   "cell_type": "code",
   "execution_count": 16,
   "metadata": {},
   "outputs": [
    {
     "data": {
      "text/plain": [
       "{'days': 942, 'quarters': 10.47, 'years': 2.58}"
      ]
     },
     "metadata": {},
     "output_type": "display_data"
    },
    {
     "data": {
      "text/html": [
       "<div>\n",
       "<style scoped>\n",
       "    .dataframe tbody tr th:only-of-type {\n",
       "        vertical-align: middle;\n",
       "    }\n",
       "\n",
       "    .dataframe tbody tr th {\n",
       "        vertical-align: top;\n",
       "    }\n",
       "\n",
       "    .dataframe thead th {\n",
       "        text-align: right;\n",
       "    }\n",
       "</style>\n",
       "<table border=\"1\" class=\"dataframe\">\n",
       "  <thead>\n",
       "    <tr style=\"text-align: right;\">\n",
       "      <th></th>\n",
       "      <th>requested_by</th>\n",
       "      <th>category</th>\n",
       "      <th>volume</th>\n",
       "      <th>date</th>\n",
       "      <th>day</th>\n",
       "      <th>month</th>\n",
       "      <th>quarter</th>\n",
       "      <th>year</th>\n",
       "    </tr>\n",
       "    <tr>\n",
       "      <th>date</th>\n",
       "      <th></th>\n",
       "      <th></th>\n",
       "      <th></th>\n",
       "      <th></th>\n",
       "      <th></th>\n",
       "      <th></th>\n",
       "      <th></th>\n",
       "      <th></th>\n",
       "    </tr>\n",
       "  </thead>\n",
       "  <tbody>\n",
       "    <tr>\n",
       "      <th>2022-01-01</th>\n",
       "      <td>Other</td>\n",
       "      <td>Clinical</td>\n",
       "      <td>41</td>\n",
       "      <td>2022-01-01</td>\n",
       "      <td>1</td>\n",
       "      <td>1</td>\n",
       "      <td>1</td>\n",
       "      <td>2022</td>\n",
       "    </tr>\n",
       "    <tr>\n",
       "      <th>2022-01-02</th>\n",
       "      <td>Other</td>\n",
       "      <td>Clinical</td>\n",
       "      <td>167</td>\n",
       "      <td>2022-01-02</td>\n",
       "      <td>2</td>\n",
       "      <td>1</td>\n",
       "      <td>1</td>\n",
       "      <td>2022</td>\n",
       "    </tr>\n",
       "    <tr>\n",
       "      <th>2022-01-03</th>\n",
       "      <td>Provider Authorized Representative</td>\n",
       "      <td>Clinical</td>\n",
       "      <td>2</td>\n",
       "      <td>2022-01-03</td>\n",
       "      <td>3</td>\n",
       "      <td>1</td>\n",
       "      <td>1</td>\n",
       "      <td>2022</td>\n",
       "    </tr>\n",
       "    <tr>\n",
       "      <th>2022-01-04</th>\n",
       "      <td>Member Authorized Repqresentative</td>\n",
       "      <td>Clinical</td>\n",
       "      <td>191</td>\n",
       "      <td>2022-01-04</td>\n",
       "      <td>4</td>\n",
       "      <td>1</td>\n",
       "      <td>1</td>\n",
       "      <td>2022</td>\n",
       "    </tr>\n",
       "    <tr>\n",
       "      <th>2022-01-05</th>\n",
       "      <td>Provider Authorized Representative</td>\n",
       "      <td>Administrative</td>\n",
       "      <td>29</td>\n",
       "      <td>2022-01-05</td>\n",
       "      <td>5</td>\n",
       "      <td>1</td>\n",
       "      <td>1</td>\n",
       "      <td>2022</td>\n",
       "    </tr>\n",
       "  </tbody>\n",
       "</table>\n",
       "</div>"
      ],
      "text/plain": [
       "                                  requested_by        category  volume  \\\n",
       "date                                                                     \n",
       "2022-01-01                               Other        Clinical      41   \n",
       "2022-01-02                               Other        Clinical     167   \n",
       "2022-01-03  Provider Authorized Representative        Clinical       2   \n",
       "2022-01-04   Member Authorized Repqresentative        Clinical     191   \n",
       "2022-01-05  Provider Authorized Representative  Administrative      29   \n",
       "\n",
       "                 date  day  month  quarter  year  \n",
       "date                                              \n",
       "2022-01-01 2022-01-01    1      1        1  2022  \n",
       "2022-01-02 2022-01-02    2      1        1  2022  \n",
       "2022-01-03 2022-01-03    3      1        1  2022  \n",
       "2022-01-04 2022-01-04    4      1        1  2022  \n",
       "2022-01-05 2022-01-05    5      1        1  2022  "
      ]
     },
     "execution_count": 16,
     "metadata": {},
     "output_type": "execute_result"
    }
   ],
   "source": [
    "# filter for particular time period\n",
    "start_dt, end_dt = '2022-01-01', '2024-07-31'\n",
    "df_dat_dt_flt    = dataset.data.loc[start_dt:end_dt]\n",
    "dt_props:dict    = InfoDateTime.calc_dt_stats(df_dat_dt_flt, col='date')\n",
    "dt_span:dict     = InfoDateTime.calc_dt_timespan(dt_props['min_date'], dt_props['max_date'])\n",
    "display(dt_span)\n",
    "# particular time frame \n",
    "df_dat_tod = trsfrm_dt_features_tod(df_dat_dt_flt)\n",
    "df_dat_tod.head()\n"
   ]
  },
  {
   "cell_type": "code",
   "execution_count": 35,
   "metadata": {},
   "outputs": [
    {
     "name": "stdout",
     "output_type": "stream",
     "text": [
      "Train Shape: (603, 8) | Val Shape: (151, 8) | Test Shape: (189, 8)\n"
     ]
    }
   ],
   "source": [
    "# partition the data\n",
    "train, test = train_test_split(df_dat_tod,  random_state=42, test_size=0.2)\n",
    "train, val  = train_test_split(train, random_state=42, test_size=0.2)\n",
    "print(f\"Train Shape: {train.shape} | Val Shape: {val.shape} | Test Shape: {test.shape}\")"
   ]
  },
  {
   "cell_type": "markdown",
   "metadata": {},
   "source": [
    "# Analysis"
   ]
  },
  {
   "cell_type": "code",
   "execution_count": 17,
   "metadata": {},
   "outputs": [],
   "source": [
    "def aggregate(df:pd.DataFrame, agg_col:str, grp_cols:List[str], sort_cols:List[str]):\n",
    "    return (\n",
    "        df.groupby(grp_cols)[agg_col]\n",
    "        .agg([np.sum, np.mean, np.median, np.std])\n",
    "        .sort_values(by=sort_cols, ascending=True)\n",
    "    )\n",
    "\n",
    "# aggregate(df_dat_tod, 'volume', ['year', 'month', 'requested_by', 'category'], ['year', 'month', 'sum'])\n",
    "# aggregate(df_dat_tod, 'volume', ['year', 'month', 'category'], ['year', 'month', 'sum'])\n",
    "# aggregate(df_dat_tod, 'volume', ['year', 'month'], ['year', 'month', 'sum'])['sum']"
   ]
  },
  {
   "cell_type": "code",
   "execution_count": 18,
   "metadata": {},
   "outputs": [],
   "source": [
    "# TBD: Annotate data with text \n",
    "# fig, (ax1, ax2) = plt.subplots(1,2, figure=(16,6))\n",
    "# dataset.data['requested_by'].value_counts().plot(kind='barh', xlabel='count', ax=ax1)\n",
    "# dataset.data['category'].value_counts().plot(kind='barh', xlabel='count', ax=ax2)\n",
    "# plt.tight_layout()"
   ]
  },
  {
   "cell_type": "code",
   "execution_count": 19,
   "metadata": {},
   "outputs": [],
   "source": [
    "# resampled data for the appropriate timeframe \n",
    "column_sel   = 'volume'\n",
    "df_daily     = df_dat_tod\n",
    "df_monthly   = df_daily.resample('M')[column_sel].sum().to_frame()\n",
    "df_quarterly = df_daily.resample('Q')[column_sel].sum().to_frame()"
   ]
  },
  {
   "cell_type": "markdown",
   "metadata": {},
   "source": [
    "## Trend: Rate of change over Time Period\n",
    "- .diff, .pct_change for short term changes"
   ]
  },
  {
   "cell_type": "code",
   "execution_count": 20,
   "metadata": {},
   "outputs": [],
   "source": [
    "def calc_trend(df:pd.DataFrame, col:str) -> pd.DataFrame:\n",
    "    # calculate pct change: releative rate of change, so changes over time need to be normalized\n",
    "    return  df[col].to_frame().assign(**{\n",
    "        # calculate absolute difference: magnitude, for values that don't matter much in scale\n",
    "        f\"{col}_diff\"       : lambda df_: df_[col].diff(),\n",
    "        f\"{col}_abs_diff\"   : lambda df_: df_[f\"{col}_diff\"].apply(abs),\n",
    "        f\"{col}_pct(%)\"     : lambda df_: (df_[col].pct_change() * 100).round(3),\n",
    "        f\"{col}_trend_dir\"  : lambda df_: df_[f\"{col}_diff\"].apply(lambda x: 'Increasing' if x > 0 else ('Decreasing' if x < 0 else 'No Change'))\n",
    "    })\n",
    " \n",
    "df_daily_trend     = calc_trend(df_daily,     column_sel)\n",
    "df_monthly_trend   = calc_trend(df_monthly,   column_sel)\n",
    "df_quarterly_trend = calc_trend(df_quarterly, column_sel)"
   ]
  },
  {
   "cell_type": "markdown",
   "metadata": {},
   "source": [
    "### Sample Sizing"
   ]
  },
  {
   "cell_type": "code",
   "execution_count": 32,
   "metadata": {},
   "outputs": [
    {
     "data": {
      "text/plain": [
       "15744990"
      ]
     },
     "execution_count": 32,
     "metadata": {},
     "output_type": "execute_result"
    }
   ],
   "source": [
    "def detect_sample_size(data, signifigance_level=0.05, power=0.8):\n",
    "    variability     = np.std(data)\n",
    "    trend_magnitude = np.abs(np.mean(data.diff()))\n",
    "\n",
    "    # Z Scores \n",
    "    Z_alpha = scs.norm.ppf(1 - signifigance_level / 2)  # Two-tailed test ~ 1.96\n",
    "    Z_beta  = scs.norm.ppf(power)                       # ~ 0.84\n",
    "    # Heuristic estimate for sample size\n",
    "    estimated_sample_size = ((variability / trend_magnitude) ** 2) * (Z_alpha + Z_beta) ** 2    \n",
    "    return int(np.ceil(estimated_sample_size))\n",
    "\n",
    "def sample_size_to_days(sample_size, frequency='daily'):\n",
    "    \"\"\"Convert sample size to the number of days based on the frequency of data collection.\"\"\"\n",
    "    # Map frequency to days\n",
    "    frequency_mapping = {\n",
    "        'daily':     1,\n",
    "        'weekly':    7,\n",
    "        'monthly':   30,  # Approximate month as 30 days\n",
    "        'quarterly': 90,\n",
    "        'annually':  360\n",
    "    }\n",
    "    days_per_sample = frequency_mapping.get(frequency.lower(), 1)\n",
    "    days_required   = sample_size * days_per_sample\n",
    "    return days_required\n",
    "\n",
    "num_samples = detect_sample_size(df_monthly_trend['volume'])\n",
    "sample_size_to_days(num_samples, frequency='monthly')"
   ]
  },
  {
   "cell_type": "markdown",
   "metadata": {},
   "source": [
    "## Expected Value Baselines"
   ]
  },
  {
   "cell_type": "code",
   "execution_count": 52,
   "metadata": {},
   "outputs": [
    {
     "name": "stdout",
     "output_type": "stream",
     "text": [
      "mean=3065.55, std=332.96\n"
     ]
    }
   ],
   "source": [
    "# get baseline statistics\n",
    "mu, std = ( df_monthly[column_sel].mean(), df_monthly[column_sel].std() )\n",
    "print(f\"mean={mu.round(2)}, std={std.round(2)}\")"
   ]
  },
  {
   "cell_type": "code",
   "execution_count": 65,
   "metadata": {},
   "outputs": [
    {
     "data": {
      "text/html": [
       "<div>\n",
       "<style scoped>\n",
       "    .dataframe tbody tr th:only-of-type {\n",
       "        vertical-align: middle;\n",
       "    }\n",
       "\n",
       "    .dataframe tbody tr th {\n",
       "        vertical-align: top;\n",
       "    }\n",
       "\n",
       "    .dataframe thead th {\n",
       "        text-align: right;\n",
       "    }\n",
       "</style>\n",
       "<table border=\"1\" class=\"dataframe\">\n",
       "  <thead>\n",
       "    <tr style=\"text-align: right;\">\n",
       "      <th></th>\n",
       "      <th>volume</th>\n",
       "      <th>mean</th>\n",
       "      <th>mva_3</th>\n",
       "      <th>ewm_3</th>\n",
       "    </tr>\n",
       "    <tr>\n",
       "      <th>date</th>\n",
       "      <th></th>\n",
       "      <th></th>\n",
       "      <th></th>\n",
       "      <th></th>\n",
       "    </tr>\n",
       "  </thead>\n",
       "  <tbody>\n",
       "    <tr>\n",
       "      <th>2022-01-31</th>\n",
       "      <td>2843</td>\n",
       "      <td>3065.548387</td>\n",
       "      <td>NaN</td>\n",
       "      <td>2843.0000</td>\n",
       "    </tr>\n",
       "    <tr>\n",
       "      <th>2022-02-28</th>\n",
       "      <td>2786</td>\n",
       "      <td>3065.548387</td>\n",
       "      <td>NaN</td>\n",
       "      <td>2814.5000</td>\n",
       "    </tr>\n",
       "    <tr>\n",
       "      <th>2022-03-31</th>\n",
       "      <td>3541</td>\n",
       "      <td>3065.548387</td>\n",
       "      <td>3056.666667</td>\n",
       "      <td>3177.7500</td>\n",
       "    </tr>\n",
       "    <tr>\n",
       "      <th>2022-04-30</th>\n",
       "      <td>3474</td>\n",
       "      <td>3065.548387</td>\n",
       "      <td>3267.000000</td>\n",
       "      <td>3325.8750</td>\n",
       "    </tr>\n",
       "    <tr>\n",
       "      <th>2022-05-31</th>\n",
       "      <td>3085</td>\n",
       "      <td>3065.548387</td>\n",
       "      <td>3366.666667</td>\n",
       "      <td>3205.4375</td>\n",
       "    </tr>\n",
       "  </tbody>\n",
       "</table>\n",
       "</div>"
      ],
      "text/plain": [
       "            volume         mean        mva_3      ewm_3\n",
       "date                                                   \n",
       "2022-01-31    2843  3065.548387          NaN  2843.0000\n",
       "2022-02-28    2786  3065.548387          NaN  2814.5000\n",
       "2022-03-31    3541  3065.548387  3056.666667  3177.7500\n",
       "2022-04-30    3474  3065.548387  3267.000000  3325.8750\n",
       "2022-05-31    3085  3065.548387  3366.666667  3205.4375"
      ]
     },
     "execution_count": 65,
     "metadata": {},
     "output_type": "execute_result"
    }
   ],
   "source": [
    "def calc_expectation(ds:pd.Series, window:int=5) -> pd.DataFrame:\n",
    "    N     = window\n",
    "    alpha = 2 / (N + 1)\n",
    "    col   = ds.name \n",
    "    return ds.to_frame().assign(**{\n",
    "        f\"mean\"     : lambda df_: df_[col].mean(),\n",
    "        f\"mva_{N}\"  : lambda df_: df_[col].rolling(N).mean(),\n",
    "        f\"ewm_{N}\"  : lambda df_: df_[col].ewm(span=N, adjust=False).mean()\n",
    "    })\n",
    "\n",
    "df_monthly_exp = calc_expectation( df_monthly[column_sel], window=3)\n",
    "df_monthly_exp.head()"
   ]
  },
  {
   "cell_type": "markdown",
   "metadata": {},
   "source": [
    "# Deviations and Anomalies"
   ]
  },
  {
   "cell_type": "code",
   "execution_count": 21,
   "metadata": {},
   "outputs": [
    {
     "data": {
      "text/plain": [
       "'Dataset volume column -> mean: 102.05948174322732, std: 57.17817188930601'"
      ]
     },
     "metadata": {},
     "output_type": "display_data"
    },
    {
     "data": {
      "text/html": [
       "<div>\n",
       "<style scoped>\n",
       "    .dataframe tbody tr th:only-of-type {\n",
       "        vertical-align: middle;\n",
       "    }\n",
       "\n",
       "    .dataframe tbody tr th {\n",
       "        vertical-align: top;\n",
       "    }\n",
       "\n",
       "    .dataframe thead th {\n",
       "        text-align: right;\n",
       "    }\n",
       "</style>\n",
       "<table border=\"1\" class=\"dataframe\">\n",
       "  <thead>\n",
       "    <tr style=\"text-align: right;\">\n",
       "      <th></th>\n",
       "      <th>volume</th>\n",
       "      <th>abs_gaussian_delta</th>\n",
       "      <th>is_anomaly_guassian</th>\n",
       "    </tr>\n",
       "    <tr>\n",
       "      <th>date</th>\n",
       "      <th></th>\n",
       "      <th></th>\n",
       "      <th></th>\n",
       "    </tr>\n",
       "  </thead>\n",
       "  <tbody>\n",
       "    <tr>\n",
       "      <th>2023-10-07</th>\n",
       "      <td>200</td>\n",
       "      <td>0.005368</td>\n",
       "      <td>0</td>\n",
       "    </tr>\n",
       "    <tr>\n",
       "      <th>2023-08-28</th>\n",
       "      <td>200</td>\n",
       "      <td>0.005368</td>\n",
       "      <td>0</td>\n",
       "    </tr>\n",
       "    <tr>\n",
       "      <th>2024-07-21</th>\n",
       "      <td>200</td>\n",
       "      <td>0.005368</td>\n",
       "      <td>0</td>\n",
       "    </tr>\n",
       "    <tr>\n",
       "      <th>2023-01-27</th>\n",
       "      <td>200</td>\n",
       "      <td>0.005368</td>\n",
       "      <td>0</td>\n",
       "    </tr>\n",
       "    <tr>\n",
       "      <th>2020-11-12</th>\n",
       "      <td>200</td>\n",
       "      <td>0.005368</td>\n",
       "      <td>0</td>\n",
       "    </tr>\n",
       "    <tr>\n",
       "      <th>...</th>\n",
       "      <td>...</td>\n",
       "      <td>...</td>\n",
       "      <td>...</td>\n",
       "    </tr>\n",
       "    <tr>\n",
       "      <th>2021-09-11</th>\n",
       "      <td>1</td>\n",
       "      <td>0.005514</td>\n",
       "      <td>0</td>\n",
       "    </tr>\n",
       "    <tr>\n",
       "      <th>2021-04-04</th>\n",
       "      <td>1</td>\n",
       "      <td>0.005514</td>\n",
       "      <td>0</td>\n",
       "    </tr>\n",
       "    <tr>\n",
       "      <th>2022-11-06</th>\n",
       "      <td>1</td>\n",
       "      <td>0.005514</td>\n",
       "      <td>0</td>\n",
       "    </tr>\n",
       "    <tr>\n",
       "      <th>2022-11-15</th>\n",
       "      <td>1</td>\n",
       "      <td>0.005514</td>\n",
       "      <td>0</td>\n",
       "    </tr>\n",
       "    <tr>\n",
       "      <th>2021-11-20</th>\n",
       "      <td>1</td>\n",
       "      <td>0.005514</td>\n",
       "      <td>0</td>\n",
       "    </tr>\n",
       "  </tbody>\n",
       "</table>\n",
       "<p>1698 rows × 3 columns</p>\n",
       "</div>"
      ],
      "text/plain": [
       "            volume  abs_gaussian_delta  is_anomaly_guassian\n",
       "date                                                       \n",
       "2023-10-07     200            0.005368                    0\n",
       "2023-08-28     200            0.005368                    0\n",
       "2024-07-21     200            0.005368                    0\n",
       "2023-01-27     200            0.005368                    0\n",
       "2020-11-12     200            0.005368                    0\n",
       "...            ...                 ...                  ...\n",
       "2021-09-11       1            0.005514                    0\n",
       "2021-04-04       1            0.005514                    0\n",
       "2022-11-06       1            0.005514                    0\n",
       "2022-11-15       1            0.005514                    0\n",
       "2021-11-20       1            0.005514                    0\n",
       "\n",
       "[1698 rows x 3 columns]"
      ]
     },
     "execution_count": 21,
     "metadata": {},
     "output_type": "execute_result"
    }
   ],
   "source": [
    "threshold  = 3\n",
    "mu, std    = np.mean(dataset.data[column_sel]), np.std(dataset.data[column_sel])\n",
    "gaussian   = scs.norm(mu, std)\n",
    "display(f\"Dataset {column_sel} column -> mean: {mu}, std: {std}\")\n",
    "\n",
    "df_anomaly = dataset.data['volume'].to_frame().assign(\n",
    "    abs_gaussian_delta   = lambda df_: df_[column_sel].apply(lambda xs: abs( gaussian.pdf(xs) - gaussian.pdf(mu) )  ),\n",
    "    is_anomaly_guassian = lambda df_: df_['abs_gaussian_delta'].apply(lambda xs: xs > threshold).astype(int) \n",
    ")\n",
    "df_anomaly.sort_values(by='volume', ascending=False)\n",
    "#df_anomaly['is_anomaly_gussian'].value_counts()"
   ]
  },
  {
   "cell_type": "code",
   "execution_count": null,
   "metadata": {},
   "outputs": [],
   "source": []
  }
 ],
 "metadata": {
  "language_info": {
   "name": "python"
  }
 },
 "nbformat": 4,
 "nbformat_minor": 2
}
