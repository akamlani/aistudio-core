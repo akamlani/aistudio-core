{
 "cells": [
  {
   "cell_type": "code",
   "execution_count": 2,
   "metadata": {},
   "outputs": [
    {
     "name": "stdout",
     "output_type": "stream",
     "text": [
      "The autoreload extension is already loaded. To reload it, use:\n",
      "  %reload_ext autoreload\n"
     ]
    }
   ],
   "source": [
    "import  numpy as np\n",
    "import  pandas as pd\n",
    "import  torch \n",
    "from    typing import List, Dict, Any, Tuple, Union, Optional\n",
    "from    omegaconf import DictConfig, OmegaConf\n",
    "from    pathlib import Path\n",
    "\n",
    "from    rich import print as rprint\n",
    "from    rich.markdown import Markdown\n",
    "\n",
    "import  matplotlib.pyplot as plt \n",
    "import  seaborn as sns\n",
    "import  plotly.express as px\n",
    "\n",
    "import  logging \n",
    "import  tqdm\n",
    "\n",
    "%load_ext autoreload\n",
    "%autoreload 2"
   ]
  },
  {
   "cell_type": "code",
   "execution_count": 3,
   "metadata": {},
   "outputs": [],
   "source": [
    "import scipy.stats as scs"
   ]
  },
  {
   "cell_type": "code",
   "execution_count": 94,
   "metadata": {},
   "outputs": [],
   "source": [
    "import  aistudio.core.io.filesystem as fs\n",
    "from    aistudio.core               import Experiment, read_env, import_modules\n",
    "from    aistudio.core.io.reader     import read_hydra, read_csv_to_pandas\n",
    "from    aistudio.core.io.writer_xls import ExcelFileWriter\n",
    "from    aistudio.core.io.utils      import trsfrm_frame_camelcase_to_snakecase\n",
    "from    aistudio.core.transform     import trsfrm_dt_features_tod, trsfrm_timestamp_to_dt\n",
    "from    aistudio.datasets.dataset   import DatasetTabular\n",
    "from    aistudio.datasets.info      import InfoDateTime, InfoTabular, SchemaInfo\n",
    "from    aistudio.datasets.reporter  import DatasetReporter\n",
    "from    aistudio.datasets.catalog   import Catalog "
   ]
  },
  {
   "cell_type": "markdown",
   "metadata": {},
   "source": [
    "# Experiment"
   ]
  },
  {
   "cell_type": "code",
   "execution_count": 95,
   "metadata": {},
   "outputs": [],
   "source": [
    "expname = \"analysis-python\"  \n",
    "exp     = Experiment(root_path=\"./aistudio-core\")\n",
    "seed    = exp.seed_init()\n",
    "exp_config:DictConfig  = exp.create(experiment_name=expname, tags=expname.split('-')).experiment\n",
    "exp_yaml:str           = OmegaConf.to_yaml(exp_config)\n",
    "env_config:dict        = read_env(exp.root_dir.joinpath(\".env\"))\n",
    "output_dir:str         = Path(exp_config.artifacts.datasets) "
   ]
  },
  {
   "cell_type": "markdown",
   "metadata": {},
   "source": [
    "# Catalog"
   ]
  },
  {
   "cell_type": "code",
   "execution_count": 96,
   "metadata": {},
   "outputs": [
    {
     "data": {
      "text/html": [
       "<pre style=\"white-space:pre;overflow-x:auto;line-height:normal;font-family:Menlo,'DejaVu Sans Mono',consolas,'Courier New',monospace\"><span style=\"font-weight: bold\">{</span><span style=\"color: #008000; text-decoration-color: #008000\">'num_files'</span>: <span style=\"color: #008080; text-decoration-color: #008080; font-weight: bold\">8</span>, <span style=\"color: #008000; text-decoration-color: #008000\">'num_dbs'</span>: <span style=\"color: #008080; text-decoration-color: #008080; font-weight: bold\">5</span><span style=\"font-weight: bold\">}</span>\n",
       "</pre>\n"
      ],
      "text/plain": [
       "\u001b[1m{\u001b[0m\u001b[32m'num_files'\u001b[0m: \u001b[1;36m8\u001b[0m, \u001b[32m'num_dbs'\u001b[0m: \u001b[1;36m5\u001b[0m\u001b[1m}\u001b[0m\n"
      ]
     },
     "metadata": {},
     "output_type": "display_data"
    },
    {
     "data": {
      "text/html": [
       "<div>\n",
       "<style scoped>\n",
       "    .dataframe tbody tr th:only-of-type {\n",
       "        vertical-align: middle;\n",
       "    }\n",
       "\n",
       "    .dataframe tbody tr th {\n",
       "        vertical-align: top;\n",
       "    }\n",
       "\n",
       "    .dataframe thead th {\n",
       "        text-align: right;\n",
       "    }\n",
       "</style>\n",
       "<table border=\"1\" class=\"dataframe\">\n",
       "  <thead>\n",
       "    <tr style=\"text-align: right;\">\n",
       "      <th></th>\n",
       "      <th>db</th>\n",
       "      <th>table</th>\n",
       "      <th>filename</th>\n",
       "      <th>uri</th>\n",
       "    </tr>\n",
       "  </thead>\n",
       "  <tbody>\n",
       "    <tr>\n",
       "      <th>0</th>\n",
       "      <td>anthem/claims</td>\n",
       "      <td>claims_may_2024</td>\n",
       "      <td>claims_may_2024.csv</td>\n",
       "      <td>aistudio-core/data/catalog/datasets/anthem/cla...</td>\n",
       "    </tr>\n",
       "    <tr>\n",
       "      <th>1</th>\n",
       "      <td>anthem/eob</td>\n",
       "      <td>eob_apr_28_204</td>\n",
       "      <td>eob_apr_28_204.pdf</td>\n",
       "      <td>aistudio-core/data/catalog/datasets/anthem/eob...</td>\n",
       "    </tr>\n",
       "    <tr>\n",
       "      <th>2</th>\n",
       "      <td>anthem/eob</td>\n",
       "      <td>eob_may_12_2024</td>\n",
       "      <td>eob_may_12_2024.pdf</td>\n",
       "      <td>aistudio-core/data/catalog/datasets/anthem/eob...</td>\n",
       "    </tr>\n",
       "    <tr>\n",
       "      <th>3</th>\n",
       "      <td>anthem/eob</td>\n",
       "      <td>eob_may_24_2024</td>\n",
       "      <td>eob_may_24_2024.pdf</td>\n",
       "      <td>aistudio-core/data/catalog/datasets/anthem/eob...</td>\n",
       "    </tr>\n",
       "    <tr>\n",
       "      <th>4</th>\n",
       "      <td>anthem/gna</td>\n",
       "      <td>gna-2024-ytd</td>\n",
       "      <td>gna-2024-ytd.csv</td>\n",
       "      <td>aistudio-core/data/catalog/datasets/anthem/gna...</td>\n",
       "    </tr>\n",
       "    <tr>\n",
       "      <th>5</th>\n",
       "      <td>imdb</td>\n",
       "      <td>directors</td>\n",
       "      <td>directors.csv</td>\n",
       "      <td>aistudio-core/data/catalog/datasets/imdb/direc...</td>\n",
       "    </tr>\n",
       "    <tr>\n",
       "      <th>6</th>\n",
       "      <td>imdb</td>\n",
       "      <td>movies</td>\n",
       "      <td>movies.csv</td>\n",
       "      <td>aistudio-core/data/catalog/datasets/imdb/movie...</td>\n",
       "    </tr>\n",
       "    <tr>\n",
       "      <th>7</th>\n",
       "      <td>section</td>\n",
       "      <td>section-data-analysis</td>\n",
       "      <td>section-data-analysis.xlsx</td>\n",
       "      <td>aistudio-core/data/catalog/datasets/section/se...</td>\n",
       "    </tr>\n",
       "  </tbody>\n",
       "</table>\n",
       "</div>"
      ],
      "text/plain": [
       "              db                  table                    filename  \\\n",
       "0  anthem/claims        claims_may_2024         claims_may_2024.csv   \n",
       "1     anthem/eob         eob_apr_28_204          eob_apr_28_204.pdf   \n",
       "2     anthem/eob        eob_may_12_2024         eob_may_12_2024.pdf   \n",
       "3     anthem/eob        eob_may_24_2024         eob_may_24_2024.pdf   \n",
       "4     anthem/gna           gna-2024-ytd            gna-2024-ytd.csv   \n",
       "5           imdb              directors               directors.csv   \n",
       "6           imdb                 movies                  movies.csv   \n",
       "7        section  section-data-analysis  section-data-analysis.xlsx   \n",
       "\n",
       "                                                 uri  \n",
       "0  aistudio-core/data/catalog/datasets/anthem/cla...  \n",
       "1  aistudio-core/data/catalog/datasets/anthem/eob...  \n",
       "2  aistudio-core/data/catalog/datasets/anthem/eob...  \n",
       "3  aistudio-core/data/catalog/datasets/anthem/eob...  \n",
       "4  aistudio-core/data/catalog/datasets/anthem/gna...  \n",
       "5  aistudio-core/data/catalog/datasets/imdb/direc...  \n",
       "6  aistudio-core/data/catalog/datasets/imdb/movie...  \n",
       "7  aistudio-core/data/catalog/datasets/section/se...  "
      ]
     },
     "metadata": {},
     "output_type": "display_data"
    }
   ],
   "source": [
    "datasets_root_uri = f\"{exp.data_dir}/catalog/datasets\"\n",
    "dataset_uri = f\"{exp.data_dir}/catalog/datasets/imdb\"\n",
    "dataset_uri = f\"{exp.data_dir}/catalog/datasets/anthem\"\n",
    "\n",
    "cat = Catalog(datasets_root_uri)\n",
    "cat_metrics = cat.read_catalog_metrics(cat.df_catalog)\n",
    "rprint(cat_metrics)\n",
    "display(cat.df_catalog)"
   ]
  },
  {
   "cell_type": "markdown",
   "metadata": {},
   "source": [
    "# Dataset"
   ]
  },
  {
   "cell_type": "code",
   "execution_count": 97,
   "metadata": {},
   "outputs": [],
   "source": [
    "# df_dat  = (\n",
    "#     read_csv_to_pandas(uri, index_col=0, parse_dates=True)\n",
    "#     .pipe(trsfrm_frame_camelcase_to_snakecase)\n",
    "#     .rename_axis('date')\n",
    "# )\n",
    "# dataset = DatasetTabular(df_dat)\n",
    "\n",
    "# Normal Distribution: \n",
    "# ~ PDF (Probability Density Function)\n",
    "# ~ CDF (Cumultative Density Function)\n",
    "# ~ PPF (Probabilty Point Function), which is the inverse of CDF"
   ]
  },
  {
   "cell_type": "code",
   "execution_count": 98,
   "metadata": {},
   "outputs": [
    {
     "data": {
      "text/html": [
       "<div>\n",
       "<style scoped>\n",
       "    .dataframe tbody tr th:only-of-type {\n",
       "        vertical-align: middle;\n",
       "    }\n",
       "\n",
       "    .dataframe tbody tr th {\n",
       "        vertical-align: top;\n",
       "    }\n",
       "\n",
       "    .dataframe thead th {\n",
       "        text-align: right;\n",
       "    }\n",
       "</style>\n",
       "<table border=\"1\" class=\"dataframe\">\n",
       "  <thead>\n",
       "    <tr style=\"text-align: right;\">\n",
       "      <th></th>\n",
       "      <th>review_id</th>\n",
       "      <th>product_id</th>\n",
       "      <th>product_name</th>\n",
       "      <th>user_id</th>\n",
       "      <th>customer_review_</th>\n",
       "      <th>price</th>\n",
       "      <th>purchase_amount</th>\n",
       "      <th>purchase_date</th>\n",
       "      <th>review_date</th>\n",
       "      <th>review_text</th>\n",
       "      <th>product_lit</th>\n",
       "    </tr>\n",
       "  </thead>\n",
       "  <tbody>\n",
       "    <tr>\n",
       "      <th>0</th>\n",
       "      <td>1</td>\n",
       "      <td>101</td>\n",
       "      <td>Almond Bars</td>\n",
       "      <td>U1101</td>\n",
       "      <td>5</td>\n",
       "      <td>12.99</td>\n",
       "      <td>2</td>\n",
       "      <td>2024-02-25</td>\n",
       "      <td>2024-03-01</td>\n",
       "      <td>Absolutely love these! Perfect for a quick snack.</td>\n",
       "      <td>g</td>\n",
       "    </tr>\n",
       "    <tr>\n",
       "      <th>1</th>\n",
       "      <td>2</td>\n",
       "      <td>102</td>\n",
       "      <td>Trail Mix</td>\n",
       "      <td>U1102</td>\n",
       "      <td>4</td>\n",
       "      <td>9.99</td>\n",
       "      <td>1</td>\n",
       "      <td>2024-02-26</td>\n",
       "      <td>2024-03-02</td>\n",
       "      <td>Tasty mix, though I wish there were more nuts.</td>\n",
       "      <td>d</td>\n",
       "    </tr>\n",
       "    <tr>\n",
       "      <th>2</th>\n",
       "      <td>3</td>\n",
       "      <td>103</td>\n",
       "      <td>Quinoa Granola</td>\n",
       "      <td>U1103</td>\n",
       "      <td>3</td>\n",
       "      <td>8.50</td>\n",
       "      <td>3</td>\n",
       "      <td>2024-02-27</td>\n",
       "      <td>2024-03-03</td>\n",
       "      <td>Good, but a bit too sweet for my liking.</td>\n",
       "      <td>h</td>\n",
       "    </tr>\n",
       "    <tr>\n",
       "      <th>3</th>\n",
       "      <td>4</td>\n",
       "      <td>104</td>\n",
       "      <td>Kale Chips</td>\n",
       "      <td>U1104</td>\n",
       "      <td>5</td>\n",
       "      <td>6.99</td>\n",
       "      <td>2</td>\n",
       "      <td>2024-02-28</td>\n",
       "      <td>2024-03-04</td>\n",
       "      <td>Crispy and delicious with just the right salt.</td>\n",
       "      <td>e</td>\n",
       "    </tr>\n",
       "    <tr>\n",
       "      <th>4</th>\n",
       "      <td>5</td>\n",
       "      <td>105</td>\n",
       "      <td>Chia Pudding</td>\n",
       "      <td>U1105</td>\n",
       "      <td>4</td>\n",
       "      <td>4.99</td>\n",
       "      <td>1</td>\n",
       "      <td>2024-02-28</td>\n",
       "      <td>2024-03-05</td>\n",
       "      <td>Great flavor, but wish the portion was bigger.</td>\n",
       "      <td>g</td>\n",
       "    </tr>\n",
       "  </tbody>\n",
       "</table>\n",
       "</div>"
      ],
      "text/plain": [
       "   review_id  product_id    product_name user_id  customer_review_  price  \\\n",
       "0          1         101     Almond Bars   U1101                 5  12.99   \n",
       "1          2         102       Trail Mix   U1102                 4   9.99   \n",
       "2          3         103  Quinoa Granola   U1103                 3   8.50   \n",
       "3          4         104      Kale Chips   U1104                 5   6.99   \n",
       "4          5         105    Chia Pudding   U1105                 4   4.99   \n",
       "\n",
       "   purchase_amount purchase_date review_date  \\\n",
       "0                2    2024-02-25  2024-03-01   \n",
       "1                1    2024-02-26  2024-03-02   \n",
       "2                3    2024-02-27  2024-03-03   \n",
       "3                2    2024-02-28  2024-03-04   \n",
       "4                1    2024-02-28  2024-03-05   \n",
       "\n",
       "                                         review_text product_lit  \n",
       "0  Absolutely love these! Perfect for a quick snack.           g  \n",
       "1     Tasty mix, though I wish there were more nuts.           d  \n",
       "2           Good, but a bit too sweet for my liking.           h  \n",
       "3     Crispy and delicious with just the right salt.           e  \n",
       "4     Great flavor, but wish the portion was bigger.           g  "
      ]
     },
     "metadata": {},
     "output_type": "display_data"
    },
    {
     "data": {
      "text/plain": [
       "Class: DatasetTabular | Shape: (160, 11) | Num Chunks: 5 | ChunkSize: 32"
      ]
     },
     "execution_count": 98,
     "metadata": {},
     "output_type": "execute_result"
    }
   ],
   "source": [
    "# source  = cat.read_datasource_properties('anthem/gna', 'gna-2024-ytd')\n",
    "# uri     = exp.catalog_dir.joinpath('datasets/anthem/gna/gna-2024-ytd.csv')\n",
    "source  = cat.read_datasource_properties('section', 'section-data-analysis')\n",
    "xls_rw  = ExcelFileWriter()\n",
    "names   = xls_rw.read_sheet_names(source['uri'])\n",
    "df_xls  = (\n",
    "    xls_rw.read_excel(source['uri'], 'cleaned')\n",
    "    .pipe(trsfrm_frame_camelcase_to_snakecase)\n",
    ").assign(\n",
    "    product_lit = lambda df_: np.random.choice(['a','b','c','d','e','f','g','h','A','B'], size=len(df_))\n",
    ")\n",
    "\n",
    "dataset = DatasetTabular(df_xls)\n",
    "display(dataset.data.head())\n",
    "dataset"
   ]
  },
  {
   "cell_type": "code",
   "execution_count": 102,
   "metadata": {},
   "outputs": [],
   "source": [
    "dt_stamp     = dataset.get_timespan('purchase_date')['min_date']\n",
    "filename     = DatasetReporter.autogen_filename( dataset_name='gna_appeals', timestamp=dt_stamp)\n",
    "rp_writer    = DatasetReporter(dataset)\n",
    "mapping:dict = rp_writer.write_report(filename=filename, dt_col='purchase_date', k=10)"
   ]
  },
  {
   "cell_type": "code",
   "execution_count": 12,
   "metadata": {},
   "outputs": [],
   "source": [
    "#reporter.get_categorical_stats().applymap(rp_writer.wrap_cell_content)\n",
    "#rp_writer.writer.write_excel(reporter.get_categorical_stats().applymap(rp_writer.wrap_cell_content), filename, 'stats.categorical',  with_index=True)"
   ]
  },
  {
   "cell_type": "markdown",
   "metadata": {},
   "source": [
    "# Filters and Transforms"
   ]
  },
  {
   "cell_type": "code",
   "execution_count": 16,
   "metadata": {},
   "outputs": [
    {
     "data": {
      "text/plain": [
       "{'days': 942, 'quarters': 10.47, 'years': 2.58}"
      ]
     },
     "metadata": {},
     "output_type": "display_data"
    },
    {
     "data": {
      "text/html": [
       "<div>\n",
       "<style scoped>\n",
       "    .dataframe tbody tr th:only-of-type {\n",
       "        vertical-align: middle;\n",
       "    }\n",
       "\n",
       "    .dataframe tbody tr th {\n",
       "        vertical-align: top;\n",
       "    }\n",
       "\n",
       "    .dataframe thead th {\n",
       "        text-align: right;\n",
       "    }\n",
       "</style>\n",
       "<table border=\"1\" class=\"dataframe\">\n",
       "  <thead>\n",
       "    <tr style=\"text-align: right;\">\n",
       "      <th></th>\n",
       "      <th>requested_by</th>\n",
       "      <th>category</th>\n",
       "      <th>volume</th>\n",
       "      <th>date</th>\n",
       "      <th>day</th>\n",
       "      <th>month</th>\n",
       "      <th>quarter</th>\n",
       "      <th>year</th>\n",
       "    </tr>\n",
       "    <tr>\n",
       "      <th>date</th>\n",
       "      <th></th>\n",
       "      <th></th>\n",
       "      <th></th>\n",
       "      <th></th>\n",
       "      <th></th>\n",
       "      <th></th>\n",
       "      <th></th>\n",
       "      <th></th>\n",
       "    </tr>\n",
       "  </thead>\n",
       "  <tbody>\n",
       "    <tr>\n",
       "      <th>2022-01-01</th>\n",
       "      <td>Other</td>\n",
       "      <td>Clinical</td>\n",
       "      <td>41</td>\n",
       "      <td>2022-01-01</td>\n",
       "      <td>1</td>\n",
       "      <td>1</td>\n",
       "      <td>1</td>\n",
       "      <td>2022</td>\n",
       "    </tr>\n",
       "    <tr>\n",
       "      <th>2022-01-02</th>\n",
       "      <td>Other</td>\n",
       "      <td>Clinical</td>\n",
       "      <td>167</td>\n",
       "      <td>2022-01-02</td>\n",
       "      <td>2</td>\n",
       "      <td>1</td>\n",
       "      <td>1</td>\n",
       "      <td>2022</td>\n",
       "    </tr>\n",
       "    <tr>\n",
       "      <th>2022-01-03</th>\n",
       "      <td>Provider Authorized Representative</td>\n",
       "      <td>Clinical</td>\n",
       "      <td>2</td>\n",
       "      <td>2022-01-03</td>\n",
       "      <td>3</td>\n",
       "      <td>1</td>\n",
       "      <td>1</td>\n",
       "      <td>2022</td>\n",
       "    </tr>\n",
       "    <tr>\n",
       "      <th>2022-01-04</th>\n",
       "      <td>Member Authorized Repqresentative</td>\n",
       "      <td>Clinical</td>\n",
       "      <td>191</td>\n",
       "      <td>2022-01-04</td>\n",
       "      <td>4</td>\n",
       "      <td>1</td>\n",
       "      <td>1</td>\n",
       "      <td>2022</td>\n",
       "    </tr>\n",
       "    <tr>\n",
       "      <th>2022-01-05</th>\n",
       "      <td>Provider Authorized Representative</td>\n",
       "      <td>Administrative</td>\n",
       "      <td>29</td>\n",
       "      <td>2022-01-05</td>\n",
       "      <td>5</td>\n",
       "      <td>1</td>\n",
       "      <td>1</td>\n",
       "      <td>2022</td>\n",
       "    </tr>\n",
       "  </tbody>\n",
       "</table>\n",
       "</div>"
      ],
      "text/plain": [
       "                                  requested_by        category  volume  \\\n",
       "date                                                                     \n",
       "2022-01-01                               Other        Clinical      41   \n",
       "2022-01-02                               Other        Clinical     167   \n",
       "2022-01-03  Provider Authorized Representative        Clinical       2   \n",
       "2022-01-04   Member Authorized Repqresentative        Clinical     191   \n",
       "2022-01-05  Provider Authorized Representative  Administrative      29   \n",
       "\n",
       "                 date  day  month  quarter  year  \n",
       "date                                              \n",
       "2022-01-01 2022-01-01    1      1        1  2022  \n",
       "2022-01-02 2022-01-02    2      1        1  2022  \n",
       "2022-01-03 2022-01-03    3      1        1  2022  \n",
       "2022-01-04 2022-01-04    4      1        1  2022  \n",
       "2022-01-05 2022-01-05    5      1        1  2022  "
      ]
     },
     "execution_count": 16,
     "metadata": {},
     "output_type": "execute_result"
    }
   ],
   "source": [
    "# filter for particular time period\n",
    "start_dt, end_dt = '2022-01-01', '2024-07-31'\n",
    "df_dat_dt_flt    = dataset.data.loc[start_dt:end_dt]\n",
    "dt_props:dict    = InfoDateTime.calc_dt_stats(df_dat_dt_flt, col='date')\n",
    "dt_span:dict     = InfoDateTime.calc_dt_timespan(dt_props['min_date'], dt_props['max_date'])\n",
    "display(dt_span)\n",
    "# particular time frame \n",
    "df_dat_tod = trsfrm_dt_features_tod(df_dat_dt_flt)\n",
    "df_dat_tod.head()\n"
   ]
  },
  {
   "cell_type": "code",
   "execution_count": 35,
   "metadata": {},
   "outputs": [
    {
     "name": "stdout",
     "output_type": "stream",
     "text": [
      "Train Shape: (603, 8) | Val Shape: (151, 8) | Test Shape: (189, 8)\n"
     ]
    }
   ],
   "source": [
    "# partition the data\n",
    "train, test = train_test_split(df_dat_tod,  random_state=42, test_size=0.2)\n",
    "train, val  = train_test_split(train, random_state=42, test_size=0.2)\n",
    "print(f\"Train Shape: {train.shape} | Val Shape: {val.shape} | Test Shape: {test.shape}\")"
   ]
  },
  {
   "cell_type": "markdown",
   "metadata": {},
   "source": [
    "# Analysis"
   ]
  },
  {
   "cell_type": "code",
   "execution_count": 17,
   "metadata": {},
   "outputs": [],
   "source": [
    "def aggregate(df:pd.DataFrame, agg_col:str, grp_cols:List[str], sort_cols:List[str]):\n",
    "    return (\n",
    "        df.groupby(grp_cols)[agg_col]\n",
    "        .agg([np.sum, np.mean, np.median, np.std])\n",
    "        .sort_values(by=sort_cols, ascending=True)\n",
    "    )\n",
    "\n",
    "# aggregate(df_dat_tod, 'volume', ['year', 'month', 'requested_by', 'category'], ['year', 'month', 'sum'])\n",
    "# aggregate(df_dat_tod, 'volume', ['year', 'month', 'category'], ['year', 'month', 'sum'])\n",
    "# aggregate(df_dat_tod, 'volume', ['year', 'month'], ['year', 'month', 'sum'])['sum']"
   ]
  },
  {
   "cell_type": "code",
   "execution_count": 18,
   "metadata": {},
   "outputs": [],
   "source": [
    "# TBD: Annotate data with text \n",
    "# fig, (ax1, ax2) = plt.subplots(1,2, figure=(16,6))\n",
    "# dataset.data['requested_by'].value_counts().plot(kind='barh', xlabel='count', ax=ax1)\n",
    "# dataset.data['category'].value_counts().plot(kind='barh', xlabel='count', ax=ax2)\n",
    "# plt.tight_layout()"
   ]
  },
  {
   "cell_type": "code",
   "execution_count": 19,
   "metadata": {},
   "outputs": [],
   "source": [
    "# resampled data for the appropriate timeframe \n",
    "column_sel   = 'volume'\n",
    "df_daily     = df_dat_tod\n",
    "df_monthly   = df_daily.resample('M')[column_sel].sum().to_frame()\n",
    "df_quarterly = df_daily.resample('Q')[column_sel].sum().to_frame()"
   ]
  },
  {
   "cell_type": "markdown",
   "metadata": {},
   "source": [
    "## Trend: Rate of change over Time Period\n",
    "- .diff, .pct_change for short term changes"
   ]
  },
  {
   "cell_type": "code",
   "execution_count": 20,
   "metadata": {},
   "outputs": [],
   "source": [
    "def calc_trend(df:pd.DataFrame, col:str) -> pd.DataFrame:\n",
    "    # calculate pct change: releative rate of change, so changes over time need to be normalized\n",
    "    return  df[col].to_frame().assign(**{\n",
    "        # calculate absolute difference: magnitude, for values that don't matter much in scale\n",
    "        f\"{col}_diff\"       : lambda df_: df_[col].diff(),\n",
    "        f\"{col}_abs_diff\"   : lambda df_: df_[f\"{col}_diff\"].apply(abs),\n",
    "        f\"{col}_pct(%)\"     : lambda df_: (df_[col].pct_change() * 100).round(3),\n",
    "        f\"{col}_trend_dir\"  : lambda df_: df_[f\"{col}_diff\"].apply(lambda x: 'Increasing' if x > 0 else ('Decreasing' if x < 0 else 'No Change'))\n",
    "    })\n",
    " \n",
    "df_daily_trend     = calc_trend(df_daily,     column_sel)\n",
    "df_monthly_trend   = calc_trend(df_monthly,   column_sel)\n",
    "df_quarterly_trend = calc_trend(df_quarterly, column_sel)"
   ]
  },
  {
   "cell_type": "markdown",
   "metadata": {},
   "source": [
    "### Sample Sizing"
   ]
  },
  {
   "cell_type": "code",
   "execution_count": 32,
   "metadata": {},
   "outputs": [
    {
     "data": {
      "text/plain": [
       "15744990"
      ]
     },
     "execution_count": 32,
     "metadata": {},
     "output_type": "execute_result"
    }
   ],
   "source": [
    "def detect_sample_size(data, signifigance_level=0.05, power=0.8):\n",
    "    variability     = np.std(data)\n",
    "    trend_magnitude = np.abs(np.mean(data.diff()))\n",
    "\n",
    "    # Z Scores \n",
    "    Z_alpha = scs.norm.ppf(1 - signifigance_level / 2)  # Two-tailed test ~ 1.96\n",
    "    Z_beta  = scs.norm.ppf(power)                       # ~ 0.84\n",
    "    # Heuristic estimate for sample size\n",
    "    estimated_sample_size = ((variability / trend_magnitude) ** 2) * (Z_alpha + Z_beta) ** 2    \n",
    "    return int(np.ceil(estimated_sample_size))\n",
    "\n",
    "def sample_size_to_days(sample_size, frequency='daily'):\n",
    "    \"\"\"Convert sample size to the number of days based on the frequency of data collection.\"\"\"\n",
    "    # Map frequency to days\n",
    "    frequency_mapping = {\n",
    "        'daily':     1,\n",
    "        'weekly':    7,\n",
    "        'monthly':   30,  # Approximate month as 30 days\n",
    "        'quarterly': 90,\n",
    "        'annually':  360\n",
    "    }\n",
    "    days_per_sample = frequency_mapping.get(frequency.lower(), 1)\n",
    "    days_required   = sample_size * days_per_sample\n",
    "    return days_required\n",
    "\n",
    "num_samples = detect_sample_size(df_monthly_trend['volume'])\n",
    "sample_size_to_days(num_samples, frequency='monthly')"
   ]
  },
  {
   "cell_type": "markdown",
   "metadata": {},
   "source": [
    "## Expected Value Baselines"
   ]
  },
  {
   "cell_type": "code",
   "execution_count": 52,
   "metadata": {},
   "outputs": [
    {
     "name": "stdout",
     "output_type": "stream",
     "text": [
      "mean=3065.55, std=332.96\n"
     ]
    }
   ],
   "source": [
    "# get baseline statistics\n",
    "mu, std = ( df_monthly[column_sel].mean(), df_monthly[column_sel].std() )\n",
    "print(f\"mean={mu.round(2)}, std={std.round(2)}\")"
   ]
  },
  {
   "cell_type": "code",
   "execution_count": 65,
   "metadata": {},
   "outputs": [
    {
     "data": {
      "text/html": [
       "<div>\n",
       "<style scoped>\n",
       "    .dataframe tbody tr th:only-of-type {\n",
       "        vertical-align: middle;\n",
       "    }\n",
       "\n",
       "    .dataframe tbody tr th {\n",
       "        vertical-align: top;\n",
       "    }\n",
       "\n",
       "    .dataframe thead th {\n",
       "        text-align: right;\n",
       "    }\n",
       "</style>\n",
       "<table border=\"1\" class=\"dataframe\">\n",
       "  <thead>\n",
       "    <tr style=\"text-align: right;\">\n",
       "      <th></th>\n",
       "      <th>volume</th>\n",
       "      <th>mean</th>\n",
       "      <th>mva_3</th>\n",
       "      <th>ewm_3</th>\n",
       "    </tr>\n",
       "    <tr>\n",
       "      <th>date</th>\n",
       "      <th></th>\n",
       "      <th></th>\n",
       "      <th></th>\n",
       "      <th></th>\n",
       "    </tr>\n",
       "  </thead>\n",
       "  <tbody>\n",
       "    <tr>\n",
       "      <th>2022-01-31</th>\n",
       "      <td>2843</td>\n",
       "      <td>3065.548387</td>\n",
       "      <td>NaN</td>\n",
       "      <td>2843.0000</td>\n",
       "    </tr>\n",
       "    <tr>\n",
       "      <th>2022-02-28</th>\n",
       "      <td>2786</td>\n",
       "      <td>3065.548387</td>\n",
       "      <td>NaN</td>\n",
       "      <td>2814.5000</td>\n",
       "    </tr>\n",
       "    <tr>\n",
       "      <th>2022-03-31</th>\n",
       "      <td>3541</td>\n",
       "      <td>3065.548387</td>\n",
       "      <td>3056.666667</td>\n",
       "      <td>3177.7500</td>\n",
       "    </tr>\n",
       "    <tr>\n",
       "      <th>2022-04-30</th>\n",
       "      <td>3474</td>\n",
       "      <td>3065.548387</td>\n",
       "      <td>3267.000000</td>\n",
       "      <td>3325.8750</td>\n",
       "    </tr>\n",
       "    <tr>\n",
       "      <th>2022-05-31</th>\n",
       "      <td>3085</td>\n",
       "      <td>3065.548387</td>\n",
       "      <td>3366.666667</td>\n",
       "      <td>3205.4375</td>\n",
       "    </tr>\n",
       "  </tbody>\n",
       "</table>\n",
       "</div>"
      ],
      "text/plain": [
       "            volume         mean        mva_3      ewm_3\n",
       "date                                                   \n",
       "2022-01-31    2843  3065.548387          NaN  2843.0000\n",
       "2022-02-28    2786  3065.548387          NaN  2814.5000\n",
       "2022-03-31    3541  3065.548387  3056.666667  3177.7500\n",
       "2022-04-30    3474  3065.548387  3267.000000  3325.8750\n",
       "2022-05-31    3085  3065.548387  3366.666667  3205.4375"
      ]
     },
     "execution_count": 65,
     "metadata": {},
     "output_type": "execute_result"
    }
   ],
   "source": [
    "def calc_expectation(ds:pd.Series, window:int=5) -> pd.DataFrame:\n",
    "    N     = window\n",
    "    alpha = 2 / (N + 1)\n",
    "    col   = ds.name \n",
    "    return ds.to_frame().assign(**{\n",
    "        f\"mean\"     : lambda df_: df_[col].mean(),\n",
    "        f\"mva_{N}\"  : lambda df_: df_[col].rolling(N).mean(),\n",
    "        f\"ewm_{N}\"  : lambda df_: df_[col].ewm(span=N, adjust=False).mean()\n",
    "    })\n",
    "\n",
    "df_monthly_exp = calc_expectation( df_monthly[column_sel], window=3)\n",
    "df_monthly_exp.head()"
   ]
  },
  {
   "cell_type": "markdown",
   "metadata": {},
   "source": [
    "# Deviations and Anomalies"
   ]
  },
  {
   "cell_type": "code",
   "execution_count": 21,
   "metadata": {},
   "outputs": [
    {
     "data": {
      "text/plain": [
       "'Dataset volume column -> mean: 102.05948174322732, std: 57.17817188930601'"
      ]
     },
     "metadata": {},
     "output_type": "display_data"
    },
    {
     "data": {
      "text/html": [
       "<div>\n",
       "<style scoped>\n",
       "    .dataframe tbody tr th:only-of-type {\n",
       "        vertical-align: middle;\n",
       "    }\n",
       "\n",
       "    .dataframe tbody tr th {\n",
       "        vertical-align: top;\n",
       "    }\n",
       "\n",
       "    .dataframe thead th {\n",
       "        text-align: right;\n",
       "    }\n",
       "</style>\n",
       "<table border=\"1\" class=\"dataframe\">\n",
       "  <thead>\n",
       "    <tr style=\"text-align: right;\">\n",
       "      <th></th>\n",
       "      <th>volume</th>\n",
       "      <th>abs_gaussian_delta</th>\n",
       "      <th>is_anomaly_guassian</th>\n",
       "    </tr>\n",
       "    <tr>\n",
       "      <th>date</th>\n",
       "      <th></th>\n",
       "      <th></th>\n",
       "      <th></th>\n",
       "    </tr>\n",
       "  </thead>\n",
       "  <tbody>\n",
       "    <tr>\n",
       "      <th>2023-10-07</th>\n",
       "      <td>200</td>\n",
       "      <td>0.005368</td>\n",
       "      <td>0</td>\n",
       "    </tr>\n",
       "    <tr>\n",
       "      <th>2023-08-28</th>\n",
       "      <td>200</td>\n",
       "      <td>0.005368</td>\n",
       "      <td>0</td>\n",
       "    </tr>\n",
       "    <tr>\n",
       "      <th>2024-07-21</th>\n",
       "      <td>200</td>\n",
       "      <td>0.005368</td>\n",
       "      <td>0</td>\n",
       "    </tr>\n",
       "    <tr>\n",
       "      <th>2023-01-27</th>\n",
       "      <td>200</td>\n",
       "      <td>0.005368</td>\n",
       "      <td>0</td>\n",
       "    </tr>\n",
       "    <tr>\n",
       "      <th>2020-11-12</th>\n",
       "      <td>200</td>\n",
       "      <td>0.005368</td>\n",
       "      <td>0</td>\n",
       "    </tr>\n",
       "    <tr>\n",
       "      <th>...</th>\n",
       "      <td>...</td>\n",
       "      <td>...</td>\n",
       "      <td>...</td>\n",
       "    </tr>\n",
       "    <tr>\n",
       "      <th>2021-09-11</th>\n",
       "      <td>1</td>\n",
       "      <td>0.005514</td>\n",
       "      <td>0</td>\n",
       "    </tr>\n",
       "    <tr>\n",
       "      <th>2021-04-04</th>\n",
       "      <td>1</td>\n",
       "      <td>0.005514</td>\n",
       "      <td>0</td>\n",
       "    </tr>\n",
       "    <tr>\n",
       "      <th>2022-11-06</th>\n",
       "      <td>1</td>\n",
       "      <td>0.005514</td>\n",
       "      <td>0</td>\n",
       "    </tr>\n",
       "    <tr>\n",
       "      <th>2022-11-15</th>\n",
       "      <td>1</td>\n",
       "      <td>0.005514</td>\n",
       "      <td>0</td>\n",
       "    </tr>\n",
       "    <tr>\n",
       "      <th>2021-11-20</th>\n",
       "      <td>1</td>\n",
       "      <td>0.005514</td>\n",
       "      <td>0</td>\n",
       "    </tr>\n",
       "  </tbody>\n",
       "</table>\n",
       "<p>1698 rows × 3 columns</p>\n",
       "</div>"
      ],
      "text/plain": [
       "            volume  abs_gaussian_delta  is_anomaly_guassian\n",
       "date                                                       \n",
       "2023-10-07     200            0.005368                    0\n",
       "2023-08-28     200            0.005368                    0\n",
       "2024-07-21     200            0.005368                    0\n",
       "2023-01-27     200            0.005368                    0\n",
       "2020-11-12     200            0.005368                    0\n",
       "...            ...                 ...                  ...\n",
       "2021-09-11       1            0.005514                    0\n",
       "2021-04-04       1            0.005514                    0\n",
       "2022-11-06       1            0.005514                    0\n",
       "2022-11-15       1            0.005514                    0\n",
       "2021-11-20       1            0.005514                    0\n",
       "\n",
       "[1698 rows x 3 columns]"
      ]
     },
     "execution_count": 21,
     "metadata": {},
     "output_type": "execute_result"
    }
   ],
   "source": [
    "threshold  = 3\n",
    "mu, std    = np.mean(dataset.data[column_sel]), np.std(dataset.data[column_sel])\n",
    "gaussian   = scs.norm(mu, std)\n",
    "display(f\"Dataset {column_sel} column -> mean: {mu}, std: {std}\")\n",
    "\n",
    "df_anomaly = dataset.data['volume'].to_frame().assign(\n",
    "    abs_gaussian_delta   = lambda df_: df_[column_sel].apply(lambda xs: abs( gaussian.pdf(xs) - gaussian.pdf(mu) )  ),\n",
    "    is_anomaly_guassian = lambda df_: df_['abs_gaussian_delta'].apply(lambda xs: xs > threshold).astype(int) \n",
    ")\n",
    "df_anomaly.sort_values(by='volume', ascending=False)\n",
    "#df_anomaly['is_anomaly_gussian'].value_counts()"
   ]
  },
  {
   "cell_type": "code",
   "execution_count": null,
   "metadata": {},
   "outputs": [],
   "source": []
  }
 ],
 "metadata": {
  "language_info": {
   "name": "python"
  }
 },
 "nbformat": 4,
 "nbformat_minor": 2
}
